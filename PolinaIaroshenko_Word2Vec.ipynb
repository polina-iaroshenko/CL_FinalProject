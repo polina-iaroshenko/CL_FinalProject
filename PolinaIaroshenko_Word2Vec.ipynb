{
  "nbformat": 4,
  "nbformat_minor": 0,
  "metadata": {
    "colab": {
      "provenance": [],
      "toc_visible": true
    },
    "kernelspec": {
      "name": "python3",
      "display_name": "Python 3"
    },
    "language_info": {
      "name": "python"
    }
  },
  "cells": [
    {
      "cell_type": "markdown",
      "source": [
        "# Word2Vec"
      ],
      "metadata": {
        "id": "cGg6sHnhvM31"
      }
    },
    {
      "cell_type": "markdown",
      "source": [
        "Загрузим  корпус отзывов о парфюмерии."
      ],
      "metadata": {
        "id": "WFltpS2hkpQ2"
      }
    },
    {
      "cell_type": "code",
      "source": [
        "all_corpus = pd.read_csv(\"all_corpus.csv\")"
      ],
      "metadata": {
        "id": "YybO5qoZlmpt"
      },
      "execution_count": null,
      "outputs": []
    },
    {
      "cell_type": "code",
      "source": [
        "all_corpus"
      ],
      "metadata": {
        "colab": {
          "base_uri": "https://localhost:8080/",
          "height": 411
        },
        "id": "203lCi9El310",
        "outputId": "ae4a6cb7-32d3-4e8e-b058-b949af93b527"
      },
      "execution_count": null,
      "outputs": [
        {
          "output_type": "execute_result",
          "data": {
            "text/plain": [
              "       Unnamed: 0                                          fragrance  \\\n",
              "0               0  Liquide Les Liquides Imaginaires для мужчин и ...   \n",
              "1               1  Liquide Les Liquides Imaginaires для мужчин и ...   \n",
              "2               2  Liquide Les Liquides Imaginaires для мужчин и ...   \n",
              "3               3  Liquide Les Liquides Imaginaires для мужчин и ...   \n",
              "4               4  Liquide Les Liquides Imaginaires для мужчин и ...   \n",
              "...           ...                                                ...   \n",
              "27239       27239          Uden Overdose Xerjoff для мужчин и женщин   \n",
              "27240       27240          Uden Overdose Xerjoff для мужчин и женщин   \n",
              "27241       27241          Uden Overdose Xerjoff для мужчин и женщин   \n",
              "27242       27242                   P.33 Xerjoff для мужчин и женщин   \n",
              "27243       27243                   P.33 Xerjoff для мужчин и женщин   \n",
              "\n",
              "                 date  user ID  \\\n",
              "0      02/12/23 05:53   294040   \n",
              "1      02/09/23 04:08   315169   \n",
              "2      02/07/23 10:27   174665   \n",
              "3      02/06/23 03:21   226535   \n",
              "4      02/04/23 00:51   324845   \n",
              "...               ...      ...   \n",
              "27239  12/22/21 12:30   253909   \n",
              "27240  09/16/23 08:06   309405   \n",
              "27241  05/19/23 12:24   338795   \n",
              "27242  10/05/22 08:27   294907   \n",
              "27243  09/30/22 02:09   279498   \n",
              "\n",
              "                                             review body  \n",
              "0      Очень привередливый аромат. Разнашивали вдвоем...  \n",
              "1      Начало великолепное. Шафран, что-то цветочное ...  \n",
              "2      Пожалуй, это самый красивый шафраноцентричный ...  \n",
              "3      Очень приятный и красивый))\\nНа моей коже держ...  \n",
              "4      Это - очень нежный, акварельный , более сладки...  \n",
              "...                                                  ...  \n",
              "27239  Дорого, классически и презентабельно. Дорого н...  \n",
              "27240  Какой же он красивый, не похож ни на что, выде...  \n",
              "27241  Красивый, богатый, даже роскошный аромат. Как ...  \n",
              "27242  Стартует громко и уверенно, но совершенно неож...  \n",
              "27243  Сначала жутко не понравился. Какой - то он не ...  \n",
              "\n",
              "[27244 rows x 5 columns]"
            ],
            "text/html": [
              "\n",
              "  <div id=\"df-705b1f03-73da-418c-a50d-ba5693832d8b\" class=\"colab-df-container\">\n",
              "    <div>\n",
              "<style scoped>\n",
              "    .dataframe tbody tr th:only-of-type {\n",
              "        vertical-align: middle;\n",
              "    }\n",
              "\n",
              "    .dataframe tbody tr th {\n",
              "        vertical-align: top;\n",
              "    }\n",
              "\n",
              "    .dataframe thead th {\n",
              "        text-align: right;\n",
              "    }\n",
              "</style>\n",
              "<table border=\"1\" class=\"dataframe\">\n",
              "  <thead>\n",
              "    <tr style=\"text-align: right;\">\n",
              "      <th></th>\n",
              "      <th>Unnamed: 0</th>\n",
              "      <th>fragrance</th>\n",
              "      <th>date</th>\n",
              "      <th>user ID</th>\n",
              "      <th>review body</th>\n",
              "    </tr>\n",
              "  </thead>\n",
              "  <tbody>\n",
              "    <tr>\n",
              "      <th>0</th>\n",
              "      <td>0</td>\n",
              "      <td>Liquide Les Liquides Imaginaires для мужчин и ...</td>\n",
              "      <td>02/12/23 05:53</td>\n",
              "      <td>294040</td>\n",
              "      <td>Очень привередливый аромат. Разнашивали вдвоем...</td>\n",
              "    </tr>\n",
              "    <tr>\n",
              "      <th>1</th>\n",
              "      <td>1</td>\n",
              "      <td>Liquide Les Liquides Imaginaires для мужчин и ...</td>\n",
              "      <td>02/09/23 04:08</td>\n",
              "      <td>315169</td>\n",
              "      <td>Начало великолепное. Шафран, что-то цветочное ...</td>\n",
              "    </tr>\n",
              "    <tr>\n",
              "      <th>2</th>\n",
              "      <td>2</td>\n",
              "      <td>Liquide Les Liquides Imaginaires для мужчин и ...</td>\n",
              "      <td>02/07/23 10:27</td>\n",
              "      <td>174665</td>\n",
              "      <td>Пожалуй, это самый красивый шафраноцентричный ...</td>\n",
              "    </tr>\n",
              "    <tr>\n",
              "      <th>3</th>\n",
              "      <td>3</td>\n",
              "      <td>Liquide Les Liquides Imaginaires для мужчин и ...</td>\n",
              "      <td>02/06/23 03:21</td>\n",
              "      <td>226535</td>\n",
              "      <td>Очень приятный и красивый))\\nНа моей коже держ...</td>\n",
              "    </tr>\n",
              "    <tr>\n",
              "      <th>4</th>\n",
              "      <td>4</td>\n",
              "      <td>Liquide Les Liquides Imaginaires для мужчин и ...</td>\n",
              "      <td>02/04/23 00:51</td>\n",
              "      <td>324845</td>\n",
              "      <td>Это - очень нежный, акварельный , более сладки...</td>\n",
              "    </tr>\n",
              "    <tr>\n",
              "      <th>...</th>\n",
              "      <td>...</td>\n",
              "      <td>...</td>\n",
              "      <td>...</td>\n",
              "      <td>...</td>\n",
              "      <td>...</td>\n",
              "    </tr>\n",
              "    <tr>\n",
              "      <th>27239</th>\n",
              "      <td>27239</td>\n",
              "      <td>Uden Overdose Xerjoff для мужчин и женщин</td>\n",
              "      <td>12/22/21 12:30</td>\n",
              "      <td>253909</td>\n",
              "      <td>Дорого, классически и презентабельно. Дорого н...</td>\n",
              "    </tr>\n",
              "    <tr>\n",
              "      <th>27240</th>\n",
              "      <td>27240</td>\n",
              "      <td>Uden Overdose Xerjoff для мужчин и женщин</td>\n",
              "      <td>09/16/23 08:06</td>\n",
              "      <td>309405</td>\n",
              "      <td>Какой же он красивый, не похож ни на что, выде...</td>\n",
              "    </tr>\n",
              "    <tr>\n",
              "      <th>27241</th>\n",
              "      <td>27241</td>\n",
              "      <td>Uden Overdose Xerjoff для мужчин и женщин</td>\n",
              "      <td>05/19/23 12:24</td>\n",
              "      <td>338795</td>\n",
              "      <td>Красивый, богатый, даже роскошный аромат. Как ...</td>\n",
              "    </tr>\n",
              "    <tr>\n",
              "      <th>27242</th>\n",
              "      <td>27242</td>\n",
              "      <td>P.33 Xerjoff для мужчин и женщин</td>\n",
              "      <td>10/05/22 08:27</td>\n",
              "      <td>294907</td>\n",
              "      <td>Стартует громко и уверенно, но совершенно неож...</td>\n",
              "    </tr>\n",
              "    <tr>\n",
              "      <th>27243</th>\n",
              "      <td>27243</td>\n",
              "      <td>P.33 Xerjoff для мужчин и женщин</td>\n",
              "      <td>09/30/22 02:09</td>\n",
              "      <td>279498</td>\n",
              "      <td>Сначала жутко не понравился. Какой - то он не ...</td>\n",
              "    </tr>\n",
              "  </tbody>\n",
              "</table>\n",
              "<p>27244 rows × 5 columns</p>\n",
              "</div>\n",
              "    <div class=\"colab-df-buttons\">\n",
              "\n",
              "  <div class=\"colab-df-container\">\n",
              "    <button class=\"colab-df-convert\" onclick=\"convertToInteractive('df-705b1f03-73da-418c-a50d-ba5693832d8b')\"\n",
              "            title=\"Convert this dataframe to an interactive table.\"\n",
              "            style=\"display:none;\">\n",
              "\n",
              "  <svg xmlns=\"http://www.w3.org/2000/svg\" height=\"24px\" viewBox=\"0 -960 960 960\">\n",
              "    <path d=\"M120-120v-720h720v720H120Zm60-500h600v-160H180v160Zm220 220h160v-160H400v160Zm0 220h160v-160H400v160ZM180-400h160v-160H180v160Zm440 0h160v-160H620v160ZM180-180h160v-160H180v160Zm440 0h160v-160H620v160Z\"/>\n",
              "  </svg>\n",
              "    </button>\n",
              "\n",
              "  <style>\n",
              "    .colab-df-container {\n",
              "      display:flex;\n",
              "      gap: 12px;\n",
              "    }\n",
              "\n",
              "    .colab-df-convert {\n",
              "      background-color: #E8F0FE;\n",
              "      border: none;\n",
              "      border-radius: 50%;\n",
              "      cursor: pointer;\n",
              "      display: none;\n",
              "      fill: #1967D2;\n",
              "      height: 32px;\n",
              "      padding: 0 0 0 0;\n",
              "      width: 32px;\n",
              "    }\n",
              "\n",
              "    .colab-df-convert:hover {\n",
              "      background-color: #E2EBFA;\n",
              "      box-shadow: 0px 1px 2px rgba(60, 64, 67, 0.3), 0px 1px 3px 1px rgba(60, 64, 67, 0.15);\n",
              "      fill: #174EA6;\n",
              "    }\n",
              "\n",
              "    .colab-df-buttons div {\n",
              "      margin-bottom: 4px;\n",
              "    }\n",
              "\n",
              "    [theme=dark] .colab-df-convert {\n",
              "      background-color: #3B4455;\n",
              "      fill: #D2E3FC;\n",
              "    }\n",
              "\n",
              "    [theme=dark] .colab-df-convert:hover {\n",
              "      background-color: #434B5C;\n",
              "      box-shadow: 0px 1px 3px 1px rgba(0, 0, 0, 0.15);\n",
              "      filter: drop-shadow(0px 1px 2px rgba(0, 0, 0, 0.3));\n",
              "      fill: #FFFFFF;\n",
              "    }\n",
              "  </style>\n",
              "\n",
              "    <script>\n",
              "      const buttonEl =\n",
              "        document.querySelector('#df-705b1f03-73da-418c-a50d-ba5693832d8b button.colab-df-convert');\n",
              "      buttonEl.style.display =\n",
              "        google.colab.kernel.accessAllowed ? 'block' : 'none';\n",
              "\n",
              "      async function convertToInteractive(key) {\n",
              "        const element = document.querySelector('#df-705b1f03-73da-418c-a50d-ba5693832d8b');\n",
              "        const dataTable =\n",
              "          await google.colab.kernel.invokeFunction('convertToInteractive',\n",
              "                                                    [key], {});\n",
              "        if (!dataTable) return;\n",
              "\n",
              "        const docLinkHtml = 'Like what you see? Visit the ' +\n",
              "          '<a target=\"_blank\" href=https://colab.research.google.com/notebooks/data_table.ipynb>data table notebook</a>'\n",
              "          + ' to learn more about interactive tables.';\n",
              "        element.innerHTML = '';\n",
              "        dataTable['output_type'] = 'display_data';\n",
              "        await google.colab.output.renderOutput(dataTable, element);\n",
              "        const docLink = document.createElement('div');\n",
              "        docLink.innerHTML = docLinkHtml;\n",
              "        element.appendChild(docLink);\n",
              "      }\n",
              "    </script>\n",
              "  </div>\n",
              "\n",
              "\n",
              "<div id=\"df-c8b18a8a-710a-41b7-8d7c-58753ebd4530\">\n",
              "  <button class=\"colab-df-quickchart\" onclick=\"quickchart('df-c8b18a8a-710a-41b7-8d7c-58753ebd4530')\"\n",
              "            title=\"Suggest charts\"\n",
              "            style=\"display:none;\">\n",
              "\n",
              "<svg xmlns=\"http://www.w3.org/2000/svg\" height=\"24px\"viewBox=\"0 0 24 24\"\n",
              "     width=\"24px\">\n",
              "    <g>\n",
              "        <path d=\"M19 3H5c-1.1 0-2 .9-2 2v14c0 1.1.9 2 2 2h14c1.1 0 2-.9 2-2V5c0-1.1-.9-2-2-2zM9 17H7v-7h2v7zm4 0h-2V7h2v10zm4 0h-2v-4h2v4z\"/>\n",
              "    </g>\n",
              "</svg>\n",
              "  </button>\n",
              "\n",
              "<style>\n",
              "  .colab-df-quickchart {\n",
              "      --bg-color: #E8F0FE;\n",
              "      --fill-color: #1967D2;\n",
              "      --hover-bg-color: #E2EBFA;\n",
              "      --hover-fill-color: #174EA6;\n",
              "      --disabled-fill-color: #AAA;\n",
              "      --disabled-bg-color: #DDD;\n",
              "  }\n",
              "\n",
              "  [theme=dark] .colab-df-quickchart {\n",
              "      --bg-color: #3B4455;\n",
              "      --fill-color: #D2E3FC;\n",
              "      --hover-bg-color: #434B5C;\n",
              "      --hover-fill-color: #FFFFFF;\n",
              "      --disabled-bg-color: #3B4455;\n",
              "      --disabled-fill-color: #666;\n",
              "  }\n",
              "\n",
              "  .colab-df-quickchart {\n",
              "    background-color: var(--bg-color);\n",
              "    border: none;\n",
              "    border-radius: 50%;\n",
              "    cursor: pointer;\n",
              "    display: none;\n",
              "    fill: var(--fill-color);\n",
              "    height: 32px;\n",
              "    padding: 0;\n",
              "    width: 32px;\n",
              "  }\n",
              "\n",
              "  .colab-df-quickchart:hover {\n",
              "    background-color: var(--hover-bg-color);\n",
              "    box-shadow: 0 1px 2px rgba(60, 64, 67, 0.3), 0 1px 3px 1px rgba(60, 64, 67, 0.15);\n",
              "    fill: var(--button-hover-fill-color);\n",
              "  }\n",
              "\n",
              "  .colab-df-quickchart-complete:disabled,\n",
              "  .colab-df-quickchart-complete:disabled:hover {\n",
              "    background-color: var(--disabled-bg-color);\n",
              "    fill: var(--disabled-fill-color);\n",
              "    box-shadow: none;\n",
              "  }\n",
              "\n",
              "  .colab-df-spinner {\n",
              "    border: 2px solid var(--fill-color);\n",
              "    border-color: transparent;\n",
              "    border-bottom-color: var(--fill-color);\n",
              "    animation:\n",
              "      spin 1s steps(1) infinite;\n",
              "  }\n",
              "\n",
              "  @keyframes spin {\n",
              "    0% {\n",
              "      border-color: transparent;\n",
              "      border-bottom-color: var(--fill-color);\n",
              "      border-left-color: var(--fill-color);\n",
              "    }\n",
              "    20% {\n",
              "      border-color: transparent;\n",
              "      border-left-color: var(--fill-color);\n",
              "      border-top-color: var(--fill-color);\n",
              "    }\n",
              "    30% {\n",
              "      border-color: transparent;\n",
              "      border-left-color: var(--fill-color);\n",
              "      border-top-color: var(--fill-color);\n",
              "      border-right-color: var(--fill-color);\n",
              "    }\n",
              "    40% {\n",
              "      border-color: transparent;\n",
              "      border-right-color: var(--fill-color);\n",
              "      border-top-color: var(--fill-color);\n",
              "    }\n",
              "    60% {\n",
              "      border-color: transparent;\n",
              "      border-right-color: var(--fill-color);\n",
              "    }\n",
              "    80% {\n",
              "      border-color: transparent;\n",
              "      border-right-color: var(--fill-color);\n",
              "      border-bottom-color: var(--fill-color);\n",
              "    }\n",
              "    90% {\n",
              "      border-color: transparent;\n",
              "      border-bottom-color: var(--fill-color);\n",
              "    }\n",
              "  }\n",
              "</style>\n",
              "\n",
              "  <script>\n",
              "    async function quickchart(key) {\n",
              "      const quickchartButtonEl =\n",
              "        document.querySelector('#' + key + ' button');\n",
              "      quickchartButtonEl.disabled = true;  // To prevent multiple clicks.\n",
              "      quickchartButtonEl.classList.add('colab-df-spinner');\n",
              "      try {\n",
              "        const charts = await google.colab.kernel.invokeFunction(\n",
              "            'suggestCharts', [key], {});\n",
              "      } catch (error) {\n",
              "        console.error('Error during call to suggestCharts:', error);\n",
              "      }\n",
              "      quickchartButtonEl.classList.remove('colab-df-spinner');\n",
              "      quickchartButtonEl.classList.add('colab-df-quickchart-complete');\n",
              "    }\n",
              "    (() => {\n",
              "      let quickchartButtonEl =\n",
              "        document.querySelector('#df-c8b18a8a-710a-41b7-8d7c-58753ebd4530 button');\n",
              "      quickchartButtonEl.style.display =\n",
              "        google.colab.kernel.accessAllowed ? 'block' : 'none';\n",
              "    })();\n",
              "  </script>\n",
              "</div>\n",
              "    </div>\n",
              "  </div>\n"
            ],
            "application/vnd.google.colaboratory.intrinsic+json": {
              "type": "dataframe",
              "variable_name": "all_corpus",
              "summary": "{\n  \"name\": \"all_corpus\",\n  \"rows\": 27244,\n  \"fields\": [\n    {\n      \"column\": \"Unnamed: 0\",\n      \"properties\": {\n        \"dtype\": \"number\",\n        \"std\": 7864,\n        \"min\": 0,\n        \"max\": 27243,\n        \"num_unique_values\": 27244,\n        \"samples\": [\n          18269,\n          17663,\n          7745\n        ],\n        \"semantic_type\": \"\",\n        \"description\": \"\"\n      }\n    },\n    {\n      \"column\": \"fragrance\",\n      \"properties\": {\n        \"dtype\": \"category\",\n        \"num_unique_values\": 441,\n        \"samples\": [\n          \"Pearl Oud By Kilian \\u0434\\u043b\\u044f \\u043c\\u0443\\u0436\\u0447\\u0438\\u043d \\u0438 \\u0436\\u0435\\u043d\\u0449\\u0438\\u043d\",\n          \"Uden Overdose Xerjoff \\u0434\\u043b\\u044f \\u043c\\u0443\\u0436\\u0447\\u0438\\u043d \\u0438 \\u0436\\u0435\\u043d\\u0449\\u0438\\u043d\",\n          \"Biblioth\\u00e8que Byredo \\u0434\\u043b\\u044f \\u043c\\u0443\\u0436\\u0447\\u0438\\u043d \\u0438 \\u0436\\u0435\\u043d\\u0449\\u0438\\u043d\"\n        ],\n        \"semantic_type\": \"\",\n        \"description\": \"\"\n      }\n    },\n    {\n      \"column\": \"date\",\n      \"properties\": {\n        \"dtype\": \"object\",\n        \"num_unique_values\": 24422,\n        \"samples\": [\n          \"12/12/18 07:49\",\n          \"09/11/22 04:47\",\n          \"04/28/13 16:05\"\n        ],\n        \"semantic_type\": \"\",\n        \"description\": \"\"\n      }\n    },\n    {\n      \"column\": \"user ID\",\n      \"properties\": {\n        \"dtype\": \"number\",\n        \"std\": 104894,\n        \"min\": 2,\n        \"max\": 398825,\n        \"num_unique_values\": 8588,\n        \"samples\": [\n          313796,\n          336464,\n          180717\n        ],\n        \"semantic_type\": \"\",\n        \"description\": \"\"\n      }\n    },\n    {\n      \"column\": \"review body\",\n      \"properties\": {\n        \"dtype\": \"string\",\n        \"num_unique_values\": 24600,\n        \"samples\": [\n          \"Rose Oud \\u044f\\u0432\\u043b\\u044f\\u0435\\u0442\\u0441\\u044f \\u043c\\u043e\\u0438\\u043c \\u043b\\u044e\\u0431\\u0438\\u043c\\u0447\\u0438\\u043a\\u043e\\u043c \\u0432 \\u043b\\u0438\\u043d\\u0435\\u0439\\u043a\\u0435. \\u041f\\u043e\\u0441\\u043b\\u0435 \\u0437\\u043d\\u0430\\u043a\\u043e\\u043c\\u0441\\u0442\\u0432\\u0430 \\u0441\\u0440\\u0430\\u0437\\u0443 \\u043f\\u0440\\u0438\\u043e\\u0431\\u0440\\u0435\\u043b 50 \\u043c\\u043b \\u044d\\u0442\\u043e\\u0439 \\u043a\\u0440\\u0430\\u0441\\u0438\\u0432\\u043e\\u0439 \\u0440\\u043e\\u0437\\u044b \\u0432 \\u0445\\u043e\\u043b\\u043e\\u0434\\u043d\\u043e\\u043c, \\u043f\\u043e\\u0447\\u0442\\u0438 \\u0441\\u0442\\u0435\\u0440\\u0438\\u043b\\u044c\\u043d\\u043e\\u043c \\u0443\\u0434\\u043e\\u0432\\u043e\\u043c \\u043e\\u0431\\u043b\\u0430\\u043a\\u0435.\\n\\u0413\\u0432\\u0430\\u044f\\u043a\\u043e\\u0432\\u0430\\u044f \\u0434\\u0440\\u0435\\u0432\\u0435\\u0441\\u0438\\u043d\\u0430, \\u0440\\u043e\\u0437\\u0430, \\u043e\\u0441\\u0442\\u0440\\u044b\\u0439 \\u043c\\u0435\\u0442\\u0430\\u043b\\u043b\\u0438\\u0447\\u0435\\u0441\\u043a\\u0438\\u0439 \\u0448\\u0430\\u0444\\u0440\\u0430\\u043d \\u0432 \\u0441\\u0442\\u0430\\u0440\\u0442\\u0435, \\u043d\\u044e\\u0430\\u043d\\u0441 \\u043a\\u0430\\u0440\\u0434\\u0430\\u043c\\u043e\\u043d\\u0430, \\u043e\\u0431\\u043b\\u0430\\u043a\\u043e \\u043c\\u0443\\u0441\\u043a\\u0443\\u0441\\u0430 \\u2013 \\u044d\\u0442\\u043e \\u0432\\u0441\\u0435 \\u043d\\u0430\\u043f\\u043e\\u043c\\u0438\\u043d\\u0430\\u0435\\u0442 \\u0440\\u0430\\u043d\\u043d\\u0435\\u0435 \\u0443\\u0442\\u0440\\u043e \\u0432 \\u0440\\u043e\\u0437\\u0430\\u0440\\u0438\\u0438, \\u043a\\u043e\\u0433\\u0434\\u0430 \\u0435\\u0449\\u0435 \\u043f\\u0440\\u043e\\u0445\\u043b\\u0430\\u0434\\u043d\\u043e, \\u0440\\u043e\\u0441\\u0430 \\u043d\\u0430 \\u043b\\u0435\\u043f\\u0435\\u0441\\u0442\\u043a\\u0430\\u0445, \\u043b\\u0435\\u0433\\u043a\\u0438\\u0439 \\u0442\\u0443\\u043c\\u0430\\u043d, \\u043f\\u044b\\u0448\\u0443\\u0449\\u0430\\u044f \\u0442\\u0435\\u043f\\u043b\\u043e\\u043c \\u0437\\u0435\\u043c\\u043b\\u044f \\u0438 \\u0442\\u043b\\u0435\\u044e\\u0449\\u0438\\u0439 \\u0440\\u044f\\u0434\\u043e\\u043c \\u043a\\u043e\\u0441\\u0442\\u0435\\u0440. \\u0410\\u0440\\u043e\\u043c\\u0430\\u0442 \\u0431\\u043e\\u043b\\u044c\\u0448\\u0435 \\u043f\\u043e\\u0441\\u0432\\u044f\\u0449\\u0435\\u043d \\u0440\\u043e\\u0437\\u0435, \\u0442\\u0430\\u043a \\u043a\\u0430\\u043a \\u0443\\u0434 \\u0432 \\u0434\\u0430\\u043d\\u043d\\u043e\\u0439 \\u043a\\u043e\\u043c\\u043f\\u043e\\u0437\\u0438\\u0446\\u0438\\u0438 \\u043f\\u0440\\u0435\\u0434\\u0441\\u0442\\u0430\\u0432\\u043b\\u0435\\u043d \\u043d\\u044e\\u0430\\u043d\\u0441\\u043e\\u043c, \\u043d\\u0435\\u043a\\u0438\\u043c \\u0444\\u043b\\u0435\\u0440\\u043e\\u043c, \\u043f\\u043e\\u0434\\u0447\\u0435\\u0440\\u043a\\u043d\\u0443\\u0442\\u044b\\u043c \\u043a\\u043e\\u043f\\u0447\\u0435\\u043d\\u043e\\u0439 \\u0434\\u0440\\u0435\\u0432\\u0435\\u0441\\u043d\\u043e\\u0441\\u0442\\u044c\\u044e \\u0433\\u0443\\u0430\\u044f\\u043a\\u0430. \\n\\u041a\\u043e\\u043c\\u043f\\u043e\\u0437\\u0438\\u0446\\u0438\\u044f \\u0441\\u043a\\u043e\\u0440\\u0435\\u0435 \\u043f\\u0440\\u043e\\u0445\\u043b\\u0430\\u0434\\u043d\\u0430\\u044f, \\u043d\\u043e \\u043f\\u0440\\u043e\\u043c\\u0435\\u043b\\u044c\\u043a\\u0438\\u0432\\u0430\\u044e\\u0442 \\u0442\\u0435\\u043f\\u043b\\u044b\\u0435 \\u0432\\u043e\\u043b\\u043d\\u044b. \\u0417\\u0440\\u0435\\u043b\\u0430\\u044f \\u043a\\u0440\\u0430\\u0441\\u043d\\u0430\\u044f \\u0431\\u0430\\u0440\\u0445\\u0430\\u0442\\u043d\\u0430\\u044f \\u0440\\u043e\\u0437\\u0430 \\u0441\\u043e\\u0440\\u0442\\u0430 Grand Prix, \\u0432\\u043b\\u0430\\u0436\\u043d\\u0430\\u044f \\u0438 \\u043f\\u0440\\u043e\\u0445\\u043b\\u0430\\u0434\\u043d\\u0430\\u044f \\u043e\\u0442 \\u0440\\u043e\\u0441\\u044b, \\u043f\\u043b\\u0435\\u043d\\u044f\\u0435\\u0442 \\u0438 \\u0443\\u0432\\u043b\\u0435\\u043a\\u0430\\u0435\\u0442 \\u0432 \\u0441\\u0432\\u043e\\u0438 \\u043e\\u0431\\u044a\\u044f\\u0442\\u0438\\u044f. \\u0420\\u043e\\u0437\\u0430 \\u0438\\u043d\\u0442\\u0440\\u043e\\u0432\\u0435\\u0440\\u0442\\u043d\\u0430\\u044f, \\u043a\\u0430\\u043a \\u041a\\u0430\\u043d\\u0442\\u043e\\u0432\\u0441\\u043a\\u0430\\u044f \\u00ab\\u0432\\u0435\\u0449\\u044c \\u0432 \\u0441\\u0435\\u0431\\u0435\\u00bb - \\u044d\\u0442\\u043e \\u0438 \\u0434\\u0435\\u043b\\u0430\\u0435\\u0442 \\u043a\\u043e\\u043c\\u043f\\u043e\\u0437\\u0438\\u0446\\u0438\\u044e \\u043f\\u043b\\u0435\\u043d\\u0438\\u0442\\u0435\\u043b\\u044c\\u043d\\u043e\\u0439. \\nRose Oud \\u043e\\u0434\\u0438\\u043d \\u0438\\u0437 \\u0441\\u0430\\u043c\\u044b\\u0445 \\u043a\\u043e\\u043c\\u043f\\u043b\\u0438\\u043c\\u0435\\u043d\\u0442\\u0430\\u0440\\u043d\\u044b\\u0445 \\u0430\\u0440\\u043e\\u043c\\u0430\\u0442\\u043e\\u0432 \\u0432 \\u043a\\u043e\\u043b\\u043b\\u0435\\u043a\\u0446\\u0438\\u0438. \\u0410\\u0431\\u0441\\u043e\\u043b\\u044e\\u0442\\u043d\\u044b\\u0439 \\u0443\\u043d\\u0438\\u0441\\u0435\\u043a\\u0441\\u043e\\u0432\\u044b\\u0439 \\u043f\\u0440\\u043e\\u0444\\u0438\\u043b\\u044c, \\u043d\\u043e, \\u043a \\u0441\\u043e\\u0436\\u0430\\u043b\\u0435\\u043d\\u0438\\u044e, \\u043c\\u0443\\u0436\\u0447\\u0438\\u043d\\u044b \\u0440\\u0435\\u0434\\u043a\\u043e \\u0432\\u044b\\u0431\\u0438\\u0440\\u0430\\u044e\\u0442 \\u0434\\u043b\\u044f \\u0441\\u0435\\u0431\\u044f \\u043e\\u0442\\u043a\\u0440\\u043e\\u0432\\u0435\\u043d\\u043d\\u043e \\u0440\\u043e\\u0437\\u043e\\u0432\\u044b\\u0435 \\u0430\\u0440\\u043e\\u043c\\u0430\\u0442\\u044b. \\u041d\\u043e \\u044f \\u043d\\u0435 \\u043f\\u0435\\u0440\\u0435\\u0441\\u0442\\u0430\\u044e (\\u0438 \\u043d\\u0435 \\u043f\\u0440\\u0435\\u0441\\u0442\\u0430\\u043d\\u0443) \\u043f\\u043e\\u0432\\u0442\\u043e\\u0440\\u044f\\u0442\\u044c \\u0438 \\u043f\\u0440\\u043e\\u043f\\u0430\\u0433\\u0430\\u043d\\u0434\\u0438\\u0440\\u043e\\u0432\\u0430\\u0442\\u044c: \\u0440\\u043e\\u0437\\u044b \\u043d\\u0430 \\u043c\\u0443\\u0436\\u0447\\u0438\\u043d\\u0430\\u0445 \\u043e\\u0447\\u0435\\u043d\\u044c \\u043a\\u0440\\u0430\\u0441\\u0438\\u0432\\u043e \\u0437\\u0432\\u0443\\u0447\\u0430\\u0442!\\n\\u041f\\u043e \\u0445\\u0430\\u0440\\u0430\\u043a\\u0442\\u0435\\u0440\\u0443 \\u0430\\u0440\\u043e\\u043c\\u0430\\u0442 \\u043e\\u0447\\u0435\\u043d\\u044c \\u043f\\u043e\\u0445\\u043e\\u0436 \\u043d\\u0430 Oud Silk Mood \\u043e\\u0442 \\u0424\\u0440\\u0430\\u043d\\u0441\\u0438\\u0441\\u0430 \\u041a\\u044e\\u0440\\u043a\\u0434\\u0436\\u0430\\u043d\\u0430, \\u0432 \\u043d\\u0435\\u043c \\u0442\\u0430\\u043a\\u0436\\u0435 \\u0433\\u043b\\u0430\\u0432\\u0435\\u043d\\u0441\\u0442\\u0432\\u0443\\u044e\\u0449\\u0443\\u044e \\u0440\\u043e\\u043b\\u044c \\u0438\\u0433\\u0440\\u0430\\u0435\\u0442 \\u0430\\u043a\\u043a\\u043e\\u0440\\u0434 \\u00ab\\u0443\\u0434+\\u0433\\u0443\\u0430\\u044f\\u043a+\\u0440\\u043e\\u0437\\u0430\\u00bb, \\u043d\\u043e \\u0432 \\u043e\\u0431\\u0440\\u0430\\u043c\\u043b\\u0435\\u043d\\u0438\\u0438 \\u0444\\u043b\\u0435\\u0440\\u0430 \\u0432\\u043e\\u0434\\u044f\\u043d\\u0438\\u0441\\u0442\\u043e\\u0433\\u043e \\u0436\\u0430\\u0441\\u043c\\u0438\\u043d\\u0430, \\u043f\\u0435\\u0440\\u0435\\u0434\\u0430\\u043d\\u043d\\u043e\\u0433\\u043e \\u0433\\u0438\\u0434\\u0435\\u043e\\u043d\\u043e\\u043c, \\u0438 \\u0440\\u043e\\u043c\\u0430\\u0448\\u043a\\u043e\\u0439.\\nP.S.: \\u0420\\u0435\\u0448\\u0438\\u043b \\u043d\\u0435 \\u0434\\u043e\\u043f\\u043e\\u043b\\u043d\\u044f\\u0442\\u044c \\u043f\\u0435\\u0440\\u0432\\u044b\\u0439 \\u043e\\u0442\\u0437\\u044b\\u0432, \\u0430 \\u043d\\u0430\\u043f\\u0438\\u0441\\u0430\\u0442\\u044c \\u0432\\u0442\\u043e\\u0440\\u043e\\u0439)))\",\n          \"\\u041c\\u043e\\u0438 \\u043b\\u044e\\u0431\\u0438\\u043c\\u044b\\u0435 \\u0431\\u0435\\u043b\\u044b\\u0435 \\u0446\\u0432\\u0435\\u0442\\u044b \\u0432 \\u043a\\u0430\\u0440\\u0430\\u043c\\u0435\\u043b\\u0438! \\u0415\\u0433\\u043e \\u0445\\u043e\\u0447\\u0435\\u0442\\u0441\\u044f \\u043d\\u043e\\u0441\\u0438\\u0442\\u044c \\u0438 \\u043f\\u043e\\u043a\\u0430\\u0437\\u044b\\u0432\\u0430\\u0442\\u044c \\u043b\\u044e\\u0434\\u044f\\u043c, \\u043e\\u043d \\u043a\\u043e\\u043c\\u043f\\u043b\\u0438\\u043c\\u0435\\u043d\\u0442\\u0430\\u0440\\u043d\\u044b\\u0439 \\u0438 \\u0434\\u0435\\u0440\\u0436\\u0438\\u0442\\u0441\\u044f \\u0447\\u0430\\u0441\\u043e\\u0432 7-8, \\u0434\\u0430\\u043b\\u0435\\u0435 \\u043c\\u043e\\u0436\\u043d\\u043e \\u043e\\u0431\\u043d\\u043e\\u0432\\u0438\\u0442\\u044c \\u0438 \\u043f\\u0440\\u043e\\u0434\\u043e\\u043b\\u0436\\u0438\\u0442\\u044c \\u043d\\u0430\\u0441\\u043b\\u0430\\u0436\\u0434\\u0430\\u0442\\u044c\\u0441\\u044f \\u0434\\u0430\\u043d\\u043d\\u044b\\u043c \\u0448\\u0435\\u0434\\u0435\\u0432\\u0440\\u043e\\u043c! \\u0421\\u0434\\u0435\\u043b\\u0430\\u043d\\u043e \\u0434\\u043e\\u0440\\u043e\\u0433\\u043e \\u0438 \\u043a\\u0430\\u0447\\u0435\\u0441\\u0442\\u0432\\u0435\\u043d\\u043d\\u043e. \\u041f\\u0438\\u0440\\u0430\\u043c\\u0438\\u0434\\u0430 \\u0437\\u0434\\u0435\\u0441\\u044c \\u043d\\u0435 \\u0432\\u0441\\u044f, \\u041f\\u043e\\u043b\\u043d\\u0430\\u044f \\u043f\\u0438\\u0440\\u0430\\u043c\\u0438\\u0434\\u0430: \\u0434\\u0438\\u043a\\u0438\\u0435 \\u044f\\u0433\\u043e\\u0434\\u044b, \\u043c\\u0430\\u043d\\u0434\\u0430\\u0440\\u0438\\u043d, \\u0436\\u0438\\u043c\\u043e\\u043b\\u043e\\u0441\\u0442\\u044c, \\u0433\\u0430\\u0440\\u0434\\u0435\\u043d\\u0438\\u044f, \\u0436\\u0430\\u0441\\u043c\\u0438\\u043d \\u0441\\u0430\\u043c\\u0431\\u0430\\u043a, \\u0430\\u043c\\u0431\\u0440\\u0430, \\u043a\\u0430\\u0440\\u0430\\u043c\\u0435\\u043b\\u044c, \\u0432\\u0430\\u043d\\u0438\\u043b\\u044c, \\u0441\\u0430\\u043d\\u0434\\u0430\\u043b\",\n          \"\\u0425\\u043e\\u0441\\u043f\\u0430\\u0434\\u0438...\\u043d\\u0443 \\u0438 \\u043f\\u0438\\u0440\\u0430\\u043c\\u0438\\u0434\\u043a\\u0430 \\u0442\\u0443\\u0442 \\u0443\\u043a\\u0430\\u0437\\u0430\\u043d\\u0430. \\u042d\\u0442\\u043e \\u043e\\u0444\\u0438\\u0446 \\u0438\\u043d\\u0444\\u043e \\u0438\\u043b\\u0438 \\u00ab\\u043d\\u0430 \\u043d\\u044e\\u0445\\u00bb \\u043e\\u043f\\u0440\\u0435\\u0434\\u0435\\u043b\\u044f\\u043b\\u0438 ))))??\\n\\u041c\\u043d\\u0435 \\u043f\\u0430\\u0440\\u0444\\u044e\\u043c \\u0441\\u043b\\u044b\\u0448\\u0435\\u043d \\u0440\\u0430\\u0437\\u0431\\u0430\\u0432\\u043b\\u0435\\u043d\\u043d\\u044b\\u043c \\u043a\\u0430\\u043a\\u0430\\u043e \\u0438 \\u043c\\u0435\\u0442\\u0430\\u043b\\u043b\\u0438\\u0447\\u0435\\u0441\\u043a\\u0438\\u043c\\u0438 \\u043d\\u043e\\u0442\\u0430\\u043c\\u0438. \\u0418 \\u0442\\u043e \\u0438 \\u0434\\u0440 - \\u043e\\u0447\\u0435\\u043d\\u044c \\u0433\\u0440\\u043e\\u043c\\u043a\\u043e.\\n\\u041d\\u043e\\u0442\\u043e\\u0439 \\u00ab\\u043c\\u0435\\u0442\\u0430\\u043b\\u043b\\u0430\\u00bb \\u043f\\u0430\\u0440\\u0444\\u044e\\u043c\\u0435\\u0440\\u043d\\u043e\\u0439 \\u0443\\u0436\\u0435 \\u043d\\u0438\\u043a\\u043e\\u0433\\u043e \\u043d\\u0435 \\u0443\\u0434\\u0438\\u0432\\u0438\\u0448\\u044c. \\u0427\\u0442\\u043e \\u043e\\u0441\\u043e\\u0431\\u0435\\u043d\\u043d\\u043e\\u0433\\u043e \\u0432 \\u0430\\u0440\\u043e\\u043c\\u0430\\u0442\\u0435, \\u044f \\u0442\\u0430\\u043a \\u0438 \\u043d\\u0435 \\u043f\\u043e\\u043d\\u044f\\u043b\\u0430. \\u041c\\u043e\\u0436\\u0435\\u0442 \\u0438\\u043c\\u0435\\u043d\\u043d\\u043e \\u0434\\u043b\\u044f \\u043b\\u0438\\u043d\\u0435\\u0439\\u043a\\u0438 \\u041d\\u0430\\u0441\\u043e\\u043c\\u0430\\u0442\\u043e - \\u0434\\u0430, \\u043d\\u043e\\u0432\\u0435\\u043d\\u044c\\u043a\\u043e\\u0435. \\u041d\\u0430 \\u043e\\u0431\\u0449\\u0435\\u043c \\u043e\\u043b\\u044c\\u0444\\u0430\\u043a\\u0442\\u043e\\u0440\\u043d\\u043e\\u043c \\u0444\\u043e\\u043d\\u0435 - \\u043d\\u0435 \\u0432\\u043f\\u0435\\u0447\\u0430\\u0442\\u043b\\u0438\\u043b(\"\n        ],\n        \"semantic_type\": \"\",\n        \"description\": \"\"\n      }\n    }\n  ]\n}"
            }
          },
          "metadata": {},
          "execution_count": 25
        }
      ]
    },
    {
      "cell_type": "code",
      "source": [
        "all_corpus = all_corpus.drop('Unnamed: 0', axis=1)"
      ],
      "metadata": {
        "id": "T09S5rqyoq2i"
      },
      "execution_count": null,
      "outputs": []
    },
    {
      "cell_type": "code",
      "source": [
        "all_corpus"
      ],
      "metadata": {
        "colab": {
          "base_uri": "https://localhost:8080/",
          "height": 411
        },
        "id": "UcnyIStdo06A",
        "outputId": "ed8a18a2-6965-480b-8f2d-8a6ed6029424"
      },
      "execution_count": null,
      "outputs": [
        {
          "output_type": "execute_result",
          "data": {
            "text/plain": [
              "                                               fragrance            date  \\\n",
              "0      Liquide Les Liquides Imaginaires для мужчин и ...  02/12/23 05:53   \n",
              "1      Liquide Les Liquides Imaginaires для мужчин и ...  02/09/23 04:08   \n",
              "2      Liquide Les Liquides Imaginaires для мужчин и ...  02/07/23 10:27   \n",
              "3      Liquide Les Liquides Imaginaires для мужчин и ...  02/06/23 03:21   \n",
              "4      Liquide Les Liquides Imaginaires для мужчин и ...  02/04/23 00:51   \n",
              "...                                                  ...             ...   \n",
              "27239          Uden Overdose Xerjoff для мужчин и женщин  12/22/21 12:30   \n",
              "27240          Uden Overdose Xerjoff для мужчин и женщин  09/16/23 08:06   \n",
              "27241          Uden Overdose Xerjoff для мужчин и женщин  05/19/23 12:24   \n",
              "27242                   P.33 Xerjoff для мужчин и женщин  10/05/22 08:27   \n",
              "27243                   P.33 Xerjoff для мужчин и женщин  09/30/22 02:09   \n",
              "\n",
              "       user ID                                        review body  \n",
              "0       294040  Очень привередливый аромат. Разнашивали вдвоем...  \n",
              "1       315169  Начало великолепное. Шафран, что-то цветочное ...  \n",
              "2       174665  Пожалуй, это самый красивый шафраноцентричный ...  \n",
              "3       226535  Очень приятный и красивый))\\nНа моей коже держ...  \n",
              "4       324845  Это - очень нежный, акварельный , более сладки...  \n",
              "...        ...                                                ...  \n",
              "27239   253909  Дорого, классически и презентабельно. Дорого н...  \n",
              "27240   309405  Какой же он красивый, не похож ни на что, выде...  \n",
              "27241   338795  Красивый, богатый, даже роскошный аромат. Как ...  \n",
              "27242   294907  Стартует громко и уверенно, но совершенно неож...  \n",
              "27243   279498  Сначала жутко не понравился. Какой - то он не ...  \n",
              "\n",
              "[27244 rows x 4 columns]"
            ],
            "text/html": [
              "\n",
              "  <div id=\"df-01189d12-4b12-44c8-bb8b-810a7729d243\" class=\"colab-df-container\">\n",
              "    <div>\n",
              "<style scoped>\n",
              "    .dataframe tbody tr th:only-of-type {\n",
              "        vertical-align: middle;\n",
              "    }\n",
              "\n",
              "    .dataframe tbody tr th {\n",
              "        vertical-align: top;\n",
              "    }\n",
              "\n",
              "    .dataframe thead th {\n",
              "        text-align: right;\n",
              "    }\n",
              "</style>\n",
              "<table border=\"1\" class=\"dataframe\">\n",
              "  <thead>\n",
              "    <tr style=\"text-align: right;\">\n",
              "      <th></th>\n",
              "      <th>fragrance</th>\n",
              "      <th>date</th>\n",
              "      <th>user ID</th>\n",
              "      <th>review body</th>\n",
              "    </tr>\n",
              "  </thead>\n",
              "  <tbody>\n",
              "    <tr>\n",
              "      <th>0</th>\n",
              "      <td>Liquide Les Liquides Imaginaires для мужчин и ...</td>\n",
              "      <td>02/12/23 05:53</td>\n",
              "      <td>294040</td>\n",
              "      <td>Очень привередливый аромат. Разнашивали вдвоем...</td>\n",
              "    </tr>\n",
              "    <tr>\n",
              "      <th>1</th>\n",
              "      <td>Liquide Les Liquides Imaginaires для мужчин и ...</td>\n",
              "      <td>02/09/23 04:08</td>\n",
              "      <td>315169</td>\n",
              "      <td>Начало великолепное. Шафран, что-то цветочное ...</td>\n",
              "    </tr>\n",
              "    <tr>\n",
              "      <th>2</th>\n",
              "      <td>Liquide Les Liquides Imaginaires для мужчин и ...</td>\n",
              "      <td>02/07/23 10:27</td>\n",
              "      <td>174665</td>\n",
              "      <td>Пожалуй, это самый красивый шафраноцентричный ...</td>\n",
              "    </tr>\n",
              "    <tr>\n",
              "      <th>3</th>\n",
              "      <td>Liquide Les Liquides Imaginaires для мужчин и ...</td>\n",
              "      <td>02/06/23 03:21</td>\n",
              "      <td>226535</td>\n",
              "      <td>Очень приятный и красивый))\\nНа моей коже держ...</td>\n",
              "    </tr>\n",
              "    <tr>\n",
              "      <th>4</th>\n",
              "      <td>Liquide Les Liquides Imaginaires для мужчин и ...</td>\n",
              "      <td>02/04/23 00:51</td>\n",
              "      <td>324845</td>\n",
              "      <td>Это - очень нежный, акварельный , более сладки...</td>\n",
              "    </tr>\n",
              "    <tr>\n",
              "      <th>...</th>\n",
              "      <td>...</td>\n",
              "      <td>...</td>\n",
              "      <td>...</td>\n",
              "      <td>...</td>\n",
              "    </tr>\n",
              "    <tr>\n",
              "      <th>27239</th>\n",
              "      <td>Uden Overdose Xerjoff для мужчин и женщин</td>\n",
              "      <td>12/22/21 12:30</td>\n",
              "      <td>253909</td>\n",
              "      <td>Дорого, классически и презентабельно. Дорого н...</td>\n",
              "    </tr>\n",
              "    <tr>\n",
              "      <th>27240</th>\n",
              "      <td>Uden Overdose Xerjoff для мужчин и женщин</td>\n",
              "      <td>09/16/23 08:06</td>\n",
              "      <td>309405</td>\n",
              "      <td>Какой же он красивый, не похож ни на что, выде...</td>\n",
              "    </tr>\n",
              "    <tr>\n",
              "      <th>27241</th>\n",
              "      <td>Uden Overdose Xerjoff для мужчин и женщин</td>\n",
              "      <td>05/19/23 12:24</td>\n",
              "      <td>338795</td>\n",
              "      <td>Красивый, богатый, даже роскошный аромат. Как ...</td>\n",
              "    </tr>\n",
              "    <tr>\n",
              "      <th>27242</th>\n",
              "      <td>P.33 Xerjoff для мужчин и женщин</td>\n",
              "      <td>10/05/22 08:27</td>\n",
              "      <td>294907</td>\n",
              "      <td>Стартует громко и уверенно, но совершенно неож...</td>\n",
              "    </tr>\n",
              "    <tr>\n",
              "      <th>27243</th>\n",
              "      <td>P.33 Xerjoff для мужчин и женщин</td>\n",
              "      <td>09/30/22 02:09</td>\n",
              "      <td>279498</td>\n",
              "      <td>Сначала жутко не понравился. Какой - то он не ...</td>\n",
              "    </tr>\n",
              "  </tbody>\n",
              "</table>\n",
              "<p>27244 rows × 4 columns</p>\n",
              "</div>\n",
              "    <div class=\"colab-df-buttons\">\n",
              "\n",
              "  <div class=\"colab-df-container\">\n",
              "    <button class=\"colab-df-convert\" onclick=\"convertToInteractive('df-01189d12-4b12-44c8-bb8b-810a7729d243')\"\n",
              "            title=\"Convert this dataframe to an interactive table.\"\n",
              "            style=\"display:none;\">\n",
              "\n",
              "  <svg xmlns=\"http://www.w3.org/2000/svg\" height=\"24px\" viewBox=\"0 -960 960 960\">\n",
              "    <path d=\"M120-120v-720h720v720H120Zm60-500h600v-160H180v160Zm220 220h160v-160H400v160Zm0 220h160v-160H400v160ZM180-400h160v-160H180v160Zm440 0h160v-160H620v160ZM180-180h160v-160H180v160Zm440 0h160v-160H620v160Z\"/>\n",
              "  </svg>\n",
              "    </button>\n",
              "\n",
              "  <style>\n",
              "    .colab-df-container {\n",
              "      display:flex;\n",
              "      gap: 12px;\n",
              "    }\n",
              "\n",
              "    .colab-df-convert {\n",
              "      background-color: #E8F0FE;\n",
              "      border: none;\n",
              "      border-radius: 50%;\n",
              "      cursor: pointer;\n",
              "      display: none;\n",
              "      fill: #1967D2;\n",
              "      height: 32px;\n",
              "      padding: 0 0 0 0;\n",
              "      width: 32px;\n",
              "    }\n",
              "\n",
              "    .colab-df-convert:hover {\n",
              "      background-color: #E2EBFA;\n",
              "      box-shadow: 0px 1px 2px rgba(60, 64, 67, 0.3), 0px 1px 3px 1px rgba(60, 64, 67, 0.15);\n",
              "      fill: #174EA6;\n",
              "    }\n",
              "\n",
              "    .colab-df-buttons div {\n",
              "      margin-bottom: 4px;\n",
              "    }\n",
              "\n",
              "    [theme=dark] .colab-df-convert {\n",
              "      background-color: #3B4455;\n",
              "      fill: #D2E3FC;\n",
              "    }\n",
              "\n",
              "    [theme=dark] .colab-df-convert:hover {\n",
              "      background-color: #434B5C;\n",
              "      box-shadow: 0px 1px 3px 1px rgba(0, 0, 0, 0.15);\n",
              "      filter: drop-shadow(0px 1px 2px rgba(0, 0, 0, 0.3));\n",
              "      fill: #FFFFFF;\n",
              "    }\n",
              "  </style>\n",
              "\n",
              "    <script>\n",
              "      const buttonEl =\n",
              "        document.querySelector('#df-01189d12-4b12-44c8-bb8b-810a7729d243 button.colab-df-convert');\n",
              "      buttonEl.style.display =\n",
              "        google.colab.kernel.accessAllowed ? 'block' : 'none';\n",
              "\n",
              "      async function convertToInteractive(key) {\n",
              "        const element = document.querySelector('#df-01189d12-4b12-44c8-bb8b-810a7729d243');\n",
              "        const dataTable =\n",
              "          await google.colab.kernel.invokeFunction('convertToInteractive',\n",
              "                                                    [key], {});\n",
              "        if (!dataTable) return;\n",
              "\n",
              "        const docLinkHtml = 'Like what you see? Visit the ' +\n",
              "          '<a target=\"_blank\" href=https://colab.research.google.com/notebooks/data_table.ipynb>data table notebook</a>'\n",
              "          + ' to learn more about interactive tables.';\n",
              "        element.innerHTML = '';\n",
              "        dataTable['output_type'] = 'display_data';\n",
              "        await google.colab.output.renderOutput(dataTable, element);\n",
              "        const docLink = document.createElement('div');\n",
              "        docLink.innerHTML = docLinkHtml;\n",
              "        element.appendChild(docLink);\n",
              "      }\n",
              "    </script>\n",
              "  </div>\n",
              "\n",
              "\n",
              "<div id=\"df-9f09aba2-7c7d-47c0-a9c3-5089518ce466\">\n",
              "  <button class=\"colab-df-quickchart\" onclick=\"quickchart('df-9f09aba2-7c7d-47c0-a9c3-5089518ce466')\"\n",
              "            title=\"Suggest charts\"\n",
              "            style=\"display:none;\">\n",
              "\n",
              "<svg xmlns=\"http://www.w3.org/2000/svg\" height=\"24px\"viewBox=\"0 0 24 24\"\n",
              "     width=\"24px\">\n",
              "    <g>\n",
              "        <path d=\"M19 3H5c-1.1 0-2 .9-2 2v14c0 1.1.9 2 2 2h14c1.1 0 2-.9 2-2V5c0-1.1-.9-2-2-2zM9 17H7v-7h2v7zm4 0h-2V7h2v10zm4 0h-2v-4h2v4z\"/>\n",
              "    </g>\n",
              "</svg>\n",
              "  </button>\n",
              "\n",
              "<style>\n",
              "  .colab-df-quickchart {\n",
              "      --bg-color: #E8F0FE;\n",
              "      --fill-color: #1967D2;\n",
              "      --hover-bg-color: #E2EBFA;\n",
              "      --hover-fill-color: #174EA6;\n",
              "      --disabled-fill-color: #AAA;\n",
              "      --disabled-bg-color: #DDD;\n",
              "  }\n",
              "\n",
              "  [theme=dark] .colab-df-quickchart {\n",
              "      --bg-color: #3B4455;\n",
              "      --fill-color: #D2E3FC;\n",
              "      --hover-bg-color: #434B5C;\n",
              "      --hover-fill-color: #FFFFFF;\n",
              "      --disabled-bg-color: #3B4455;\n",
              "      --disabled-fill-color: #666;\n",
              "  }\n",
              "\n",
              "  .colab-df-quickchart {\n",
              "    background-color: var(--bg-color);\n",
              "    border: none;\n",
              "    border-radius: 50%;\n",
              "    cursor: pointer;\n",
              "    display: none;\n",
              "    fill: var(--fill-color);\n",
              "    height: 32px;\n",
              "    padding: 0;\n",
              "    width: 32px;\n",
              "  }\n",
              "\n",
              "  .colab-df-quickchart:hover {\n",
              "    background-color: var(--hover-bg-color);\n",
              "    box-shadow: 0 1px 2px rgba(60, 64, 67, 0.3), 0 1px 3px 1px rgba(60, 64, 67, 0.15);\n",
              "    fill: var(--button-hover-fill-color);\n",
              "  }\n",
              "\n",
              "  .colab-df-quickchart-complete:disabled,\n",
              "  .colab-df-quickchart-complete:disabled:hover {\n",
              "    background-color: var(--disabled-bg-color);\n",
              "    fill: var(--disabled-fill-color);\n",
              "    box-shadow: none;\n",
              "  }\n",
              "\n",
              "  .colab-df-spinner {\n",
              "    border: 2px solid var(--fill-color);\n",
              "    border-color: transparent;\n",
              "    border-bottom-color: var(--fill-color);\n",
              "    animation:\n",
              "      spin 1s steps(1) infinite;\n",
              "  }\n",
              "\n",
              "  @keyframes spin {\n",
              "    0% {\n",
              "      border-color: transparent;\n",
              "      border-bottom-color: var(--fill-color);\n",
              "      border-left-color: var(--fill-color);\n",
              "    }\n",
              "    20% {\n",
              "      border-color: transparent;\n",
              "      border-left-color: var(--fill-color);\n",
              "      border-top-color: var(--fill-color);\n",
              "    }\n",
              "    30% {\n",
              "      border-color: transparent;\n",
              "      border-left-color: var(--fill-color);\n",
              "      border-top-color: var(--fill-color);\n",
              "      border-right-color: var(--fill-color);\n",
              "    }\n",
              "    40% {\n",
              "      border-color: transparent;\n",
              "      border-right-color: var(--fill-color);\n",
              "      border-top-color: var(--fill-color);\n",
              "    }\n",
              "    60% {\n",
              "      border-color: transparent;\n",
              "      border-right-color: var(--fill-color);\n",
              "    }\n",
              "    80% {\n",
              "      border-color: transparent;\n",
              "      border-right-color: var(--fill-color);\n",
              "      border-bottom-color: var(--fill-color);\n",
              "    }\n",
              "    90% {\n",
              "      border-color: transparent;\n",
              "      border-bottom-color: var(--fill-color);\n",
              "    }\n",
              "  }\n",
              "</style>\n",
              "\n",
              "  <script>\n",
              "    async function quickchart(key) {\n",
              "      const quickchartButtonEl =\n",
              "        document.querySelector('#' + key + ' button');\n",
              "      quickchartButtonEl.disabled = true;  // To prevent multiple clicks.\n",
              "      quickchartButtonEl.classList.add('colab-df-spinner');\n",
              "      try {\n",
              "        const charts = await google.colab.kernel.invokeFunction(\n",
              "            'suggestCharts', [key], {});\n",
              "      } catch (error) {\n",
              "        console.error('Error during call to suggestCharts:', error);\n",
              "      }\n",
              "      quickchartButtonEl.classList.remove('colab-df-spinner');\n",
              "      quickchartButtonEl.classList.add('colab-df-quickchart-complete');\n",
              "    }\n",
              "    (() => {\n",
              "      let quickchartButtonEl =\n",
              "        document.querySelector('#df-9f09aba2-7c7d-47c0-a9c3-5089518ce466 button');\n",
              "      quickchartButtonEl.style.display =\n",
              "        google.colab.kernel.accessAllowed ? 'block' : 'none';\n",
              "    })();\n",
              "  </script>\n",
              "</div>\n",
              "    </div>\n",
              "  </div>\n"
            ],
            "application/vnd.google.colaboratory.intrinsic+json": {
              "type": "dataframe",
              "variable_name": "all_corpus",
              "summary": "{\n  \"name\": \"all_corpus\",\n  \"rows\": 27244,\n  \"fields\": [\n    {\n      \"column\": \"fragrance\",\n      \"properties\": {\n        \"dtype\": \"category\",\n        \"num_unique_values\": 441,\n        \"samples\": [\n          \"Pearl Oud By Kilian \\u0434\\u043b\\u044f \\u043c\\u0443\\u0436\\u0447\\u0438\\u043d \\u0438 \\u0436\\u0435\\u043d\\u0449\\u0438\\u043d\",\n          \"Uden Overdose Xerjoff \\u0434\\u043b\\u044f \\u043c\\u0443\\u0436\\u0447\\u0438\\u043d \\u0438 \\u0436\\u0435\\u043d\\u0449\\u0438\\u043d\",\n          \"Biblioth\\u00e8que Byredo \\u0434\\u043b\\u044f \\u043c\\u0443\\u0436\\u0447\\u0438\\u043d \\u0438 \\u0436\\u0435\\u043d\\u0449\\u0438\\u043d\"\n        ],\n        \"semantic_type\": \"\",\n        \"description\": \"\"\n      }\n    },\n    {\n      \"column\": \"date\",\n      \"properties\": {\n        \"dtype\": \"object\",\n        \"num_unique_values\": 24422,\n        \"samples\": [\n          \"12/12/18 07:49\",\n          \"09/11/22 04:47\",\n          \"04/28/13 16:05\"\n        ],\n        \"semantic_type\": \"\",\n        \"description\": \"\"\n      }\n    },\n    {\n      \"column\": \"user ID\",\n      \"properties\": {\n        \"dtype\": \"number\",\n        \"std\": 104894,\n        \"min\": 2,\n        \"max\": 398825,\n        \"num_unique_values\": 8588,\n        \"samples\": [\n          313796,\n          336464,\n          180717\n        ],\n        \"semantic_type\": \"\",\n        \"description\": \"\"\n      }\n    },\n    {\n      \"column\": \"review body\",\n      \"properties\": {\n        \"dtype\": \"string\",\n        \"num_unique_values\": 24600,\n        \"samples\": [\n          \"Rose Oud \\u044f\\u0432\\u043b\\u044f\\u0435\\u0442\\u0441\\u044f \\u043c\\u043e\\u0438\\u043c \\u043b\\u044e\\u0431\\u0438\\u043c\\u0447\\u0438\\u043a\\u043e\\u043c \\u0432 \\u043b\\u0438\\u043d\\u0435\\u0439\\u043a\\u0435. \\u041f\\u043e\\u0441\\u043b\\u0435 \\u0437\\u043d\\u0430\\u043a\\u043e\\u043c\\u0441\\u0442\\u0432\\u0430 \\u0441\\u0440\\u0430\\u0437\\u0443 \\u043f\\u0440\\u0438\\u043e\\u0431\\u0440\\u0435\\u043b 50 \\u043c\\u043b \\u044d\\u0442\\u043e\\u0439 \\u043a\\u0440\\u0430\\u0441\\u0438\\u0432\\u043e\\u0439 \\u0440\\u043e\\u0437\\u044b \\u0432 \\u0445\\u043e\\u043b\\u043e\\u0434\\u043d\\u043e\\u043c, \\u043f\\u043e\\u0447\\u0442\\u0438 \\u0441\\u0442\\u0435\\u0440\\u0438\\u043b\\u044c\\u043d\\u043e\\u043c \\u0443\\u0434\\u043e\\u0432\\u043e\\u043c \\u043e\\u0431\\u043b\\u0430\\u043a\\u0435.\\n\\u0413\\u0432\\u0430\\u044f\\u043a\\u043e\\u0432\\u0430\\u044f \\u0434\\u0440\\u0435\\u0432\\u0435\\u0441\\u0438\\u043d\\u0430, \\u0440\\u043e\\u0437\\u0430, \\u043e\\u0441\\u0442\\u0440\\u044b\\u0439 \\u043c\\u0435\\u0442\\u0430\\u043b\\u043b\\u0438\\u0447\\u0435\\u0441\\u043a\\u0438\\u0439 \\u0448\\u0430\\u0444\\u0440\\u0430\\u043d \\u0432 \\u0441\\u0442\\u0430\\u0440\\u0442\\u0435, \\u043d\\u044e\\u0430\\u043d\\u0441 \\u043a\\u0430\\u0440\\u0434\\u0430\\u043c\\u043e\\u043d\\u0430, \\u043e\\u0431\\u043b\\u0430\\u043a\\u043e \\u043c\\u0443\\u0441\\u043a\\u0443\\u0441\\u0430 \\u2013 \\u044d\\u0442\\u043e \\u0432\\u0441\\u0435 \\u043d\\u0430\\u043f\\u043e\\u043c\\u0438\\u043d\\u0430\\u0435\\u0442 \\u0440\\u0430\\u043d\\u043d\\u0435\\u0435 \\u0443\\u0442\\u0440\\u043e \\u0432 \\u0440\\u043e\\u0437\\u0430\\u0440\\u0438\\u0438, \\u043a\\u043e\\u0433\\u0434\\u0430 \\u0435\\u0449\\u0435 \\u043f\\u0440\\u043e\\u0445\\u043b\\u0430\\u0434\\u043d\\u043e, \\u0440\\u043e\\u0441\\u0430 \\u043d\\u0430 \\u043b\\u0435\\u043f\\u0435\\u0441\\u0442\\u043a\\u0430\\u0445, \\u043b\\u0435\\u0433\\u043a\\u0438\\u0439 \\u0442\\u0443\\u043c\\u0430\\u043d, \\u043f\\u044b\\u0448\\u0443\\u0449\\u0430\\u044f \\u0442\\u0435\\u043f\\u043b\\u043e\\u043c \\u0437\\u0435\\u043c\\u043b\\u044f \\u0438 \\u0442\\u043b\\u0435\\u044e\\u0449\\u0438\\u0439 \\u0440\\u044f\\u0434\\u043e\\u043c \\u043a\\u043e\\u0441\\u0442\\u0435\\u0440. \\u0410\\u0440\\u043e\\u043c\\u0430\\u0442 \\u0431\\u043e\\u043b\\u044c\\u0448\\u0435 \\u043f\\u043e\\u0441\\u0432\\u044f\\u0449\\u0435\\u043d \\u0440\\u043e\\u0437\\u0435, \\u0442\\u0430\\u043a \\u043a\\u0430\\u043a \\u0443\\u0434 \\u0432 \\u0434\\u0430\\u043d\\u043d\\u043e\\u0439 \\u043a\\u043e\\u043c\\u043f\\u043e\\u0437\\u0438\\u0446\\u0438\\u0438 \\u043f\\u0440\\u0435\\u0434\\u0441\\u0442\\u0430\\u0432\\u043b\\u0435\\u043d \\u043d\\u044e\\u0430\\u043d\\u0441\\u043e\\u043c, \\u043d\\u0435\\u043a\\u0438\\u043c \\u0444\\u043b\\u0435\\u0440\\u043e\\u043c, \\u043f\\u043e\\u0434\\u0447\\u0435\\u0440\\u043a\\u043d\\u0443\\u0442\\u044b\\u043c \\u043a\\u043e\\u043f\\u0447\\u0435\\u043d\\u043e\\u0439 \\u0434\\u0440\\u0435\\u0432\\u0435\\u0441\\u043d\\u043e\\u0441\\u0442\\u044c\\u044e \\u0433\\u0443\\u0430\\u044f\\u043a\\u0430. \\n\\u041a\\u043e\\u043c\\u043f\\u043e\\u0437\\u0438\\u0446\\u0438\\u044f \\u0441\\u043a\\u043e\\u0440\\u0435\\u0435 \\u043f\\u0440\\u043e\\u0445\\u043b\\u0430\\u0434\\u043d\\u0430\\u044f, \\u043d\\u043e \\u043f\\u0440\\u043e\\u043c\\u0435\\u043b\\u044c\\u043a\\u0438\\u0432\\u0430\\u044e\\u0442 \\u0442\\u0435\\u043f\\u043b\\u044b\\u0435 \\u0432\\u043e\\u043b\\u043d\\u044b. \\u0417\\u0440\\u0435\\u043b\\u0430\\u044f \\u043a\\u0440\\u0430\\u0441\\u043d\\u0430\\u044f \\u0431\\u0430\\u0440\\u0445\\u0430\\u0442\\u043d\\u0430\\u044f \\u0440\\u043e\\u0437\\u0430 \\u0441\\u043e\\u0440\\u0442\\u0430 Grand Prix, \\u0432\\u043b\\u0430\\u0436\\u043d\\u0430\\u044f \\u0438 \\u043f\\u0440\\u043e\\u0445\\u043b\\u0430\\u0434\\u043d\\u0430\\u044f \\u043e\\u0442 \\u0440\\u043e\\u0441\\u044b, \\u043f\\u043b\\u0435\\u043d\\u044f\\u0435\\u0442 \\u0438 \\u0443\\u0432\\u043b\\u0435\\u043a\\u0430\\u0435\\u0442 \\u0432 \\u0441\\u0432\\u043e\\u0438 \\u043e\\u0431\\u044a\\u044f\\u0442\\u0438\\u044f. \\u0420\\u043e\\u0437\\u0430 \\u0438\\u043d\\u0442\\u0440\\u043e\\u0432\\u0435\\u0440\\u0442\\u043d\\u0430\\u044f, \\u043a\\u0430\\u043a \\u041a\\u0430\\u043d\\u0442\\u043e\\u0432\\u0441\\u043a\\u0430\\u044f \\u00ab\\u0432\\u0435\\u0449\\u044c \\u0432 \\u0441\\u0435\\u0431\\u0435\\u00bb - \\u044d\\u0442\\u043e \\u0438 \\u0434\\u0435\\u043b\\u0430\\u0435\\u0442 \\u043a\\u043e\\u043c\\u043f\\u043e\\u0437\\u0438\\u0446\\u0438\\u044e \\u043f\\u043b\\u0435\\u043d\\u0438\\u0442\\u0435\\u043b\\u044c\\u043d\\u043e\\u0439. \\nRose Oud \\u043e\\u0434\\u0438\\u043d \\u0438\\u0437 \\u0441\\u0430\\u043c\\u044b\\u0445 \\u043a\\u043e\\u043c\\u043f\\u043b\\u0438\\u043c\\u0435\\u043d\\u0442\\u0430\\u0440\\u043d\\u044b\\u0445 \\u0430\\u0440\\u043e\\u043c\\u0430\\u0442\\u043e\\u0432 \\u0432 \\u043a\\u043e\\u043b\\u043b\\u0435\\u043a\\u0446\\u0438\\u0438. \\u0410\\u0431\\u0441\\u043e\\u043b\\u044e\\u0442\\u043d\\u044b\\u0439 \\u0443\\u043d\\u0438\\u0441\\u0435\\u043a\\u0441\\u043e\\u0432\\u044b\\u0439 \\u043f\\u0440\\u043e\\u0444\\u0438\\u043b\\u044c, \\u043d\\u043e, \\u043a \\u0441\\u043e\\u0436\\u0430\\u043b\\u0435\\u043d\\u0438\\u044e, \\u043c\\u0443\\u0436\\u0447\\u0438\\u043d\\u044b \\u0440\\u0435\\u0434\\u043a\\u043e \\u0432\\u044b\\u0431\\u0438\\u0440\\u0430\\u044e\\u0442 \\u0434\\u043b\\u044f \\u0441\\u0435\\u0431\\u044f \\u043e\\u0442\\u043a\\u0440\\u043e\\u0432\\u0435\\u043d\\u043d\\u043e \\u0440\\u043e\\u0437\\u043e\\u0432\\u044b\\u0435 \\u0430\\u0440\\u043e\\u043c\\u0430\\u0442\\u044b. \\u041d\\u043e \\u044f \\u043d\\u0435 \\u043f\\u0435\\u0440\\u0435\\u0441\\u0442\\u0430\\u044e (\\u0438 \\u043d\\u0435 \\u043f\\u0440\\u0435\\u0441\\u0442\\u0430\\u043d\\u0443) \\u043f\\u043e\\u0432\\u0442\\u043e\\u0440\\u044f\\u0442\\u044c \\u0438 \\u043f\\u0440\\u043e\\u043f\\u0430\\u0433\\u0430\\u043d\\u0434\\u0438\\u0440\\u043e\\u0432\\u0430\\u0442\\u044c: \\u0440\\u043e\\u0437\\u044b \\u043d\\u0430 \\u043c\\u0443\\u0436\\u0447\\u0438\\u043d\\u0430\\u0445 \\u043e\\u0447\\u0435\\u043d\\u044c \\u043a\\u0440\\u0430\\u0441\\u0438\\u0432\\u043e \\u0437\\u0432\\u0443\\u0447\\u0430\\u0442!\\n\\u041f\\u043e \\u0445\\u0430\\u0440\\u0430\\u043a\\u0442\\u0435\\u0440\\u0443 \\u0430\\u0440\\u043e\\u043c\\u0430\\u0442 \\u043e\\u0447\\u0435\\u043d\\u044c \\u043f\\u043e\\u0445\\u043e\\u0436 \\u043d\\u0430 Oud Silk Mood \\u043e\\u0442 \\u0424\\u0440\\u0430\\u043d\\u0441\\u0438\\u0441\\u0430 \\u041a\\u044e\\u0440\\u043a\\u0434\\u0436\\u0430\\u043d\\u0430, \\u0432 \\u043d\\u0435\\u043c \\u0442\\u0430\\u043a\\u0436\\u0435 \\u0433\\u043b\\u0430\\u0432\\u0435\\u043d\\u0441\\u0442\\u0432\\u0443\\u044e\\u0449\\u0443\\u044e \\u0440\\u043e\\u043b\\u044c \\u0438\\u0433\\u0440\\u0430\\u0435\\u0442 \\u0430\\u043a\\u043a\\u043e\\u0440\\u0434 \\u00ab\\u0443\\u0434+\\u0433\\u0443\\u0430\\u044f\\u043a+\\u0440\\u043e\\u0437\\u0430\\u00bb, \\u043d\\u043e \\u0432 \\u043e\\u0431\\u0440\\u0430\\u043c\\u043b\\u0435\\u043d\\u0438\\u0438 \\u0444\\u043b\\u0435\\u0440\\u0430 \\u0432\\u043e\\u0434\\u044f\\u043d\\u0438\\u0441\\u0442\\u043e\\u0433\\u043e \\u0436\\u0430\\u0441\\u043c\\u0438\\u043d\\u0430, \\u043f\\u0435\\u0440\\u0435\\u0434\\u0430\\u043d\\u043d\\u043e\\u0433\\u043e \\u0433\\u0438\\u0434\\u0435\\u043e\\u043d\\u043e\\u043c, \\u0438 \\u0440\\u043e\\u043c\\u0430\\u0448\\u043a\\u043e\\u0439.\\nP.S.: \\u0420\\u0435\\u0448\\u0438\\u043b \\u043d\\u0435 \\u0434\\u043e\\u043f\\u043e\\u043b\\u043d\\u044f\\u0442\\u044c \\u043f\\u0435\\u0440\\u0432\\u044b\\u0439 \\u043e\\u0442\\u0437\\u044b\\u0432, \\u0430 \\u043d\\u0430\\u043f\\u0438\\u0441\\u0430\\u0442\\u044c \\u0432\\u0442\\u043e\\u0440\\u043e\\u0439)))\",\n          \"\\u041c\\u043e\\u0438 \\u043b\\u044e\\u0431\\u0438\\u043c\\u044b\\u0435 \\u0431\\u0435\\u043b\\u044b\\u0435 \\u0446\\u0432\\u0435\\u0442\\u044b \\u0432 \\u043a\\u0430\\u0440\\u0430\\u043c\\u0435\\u043b\\u0438! \\u0415\\u0433\\u043e \\u0445\\u043e\\u0447\\u0435\\u0442\\u0441\\u044f \\u043d\\u043e\\u0441\\u0438\\u0442\\u044c \\u0438 \\u043f\\u043e\\u043a\\u0430\\u0437\\u044b\\u0432\\u0430\\u0442\\u044c \\u043b\\u044e\\u0434\\u044f\\u043c, \\u043e\\u043d \\u043a\\u043e\\u043c\\u043f\\u043b\\u0438\\u043c\\u0435\\u043d\\u0442\\u0430\\u0440\\u043d\\u044b\\u0439 \\u0438 \\u0434\\u0435\\u0440\\u0436\\u0438\\u0442\\u0441\\u044f \\u0447\\u0430\\u0441\\u043e\\u0432 7-8, \\u0434\\u0430\\u043b\\u0435\\u0435 \\u043c\\u043e\\u0436\\u043d\\u043e \\u043e\\u0431\\u043d\\u043e\\u0432\\u0438\\u0442\\u044c \\u0438 \\u043f\\u0440\\u043e\\u0434\\u043e\\u043b\\u0436\\u0438\\u0442\\u044c \\u043d\\u0430\\u0441\\u043b\\u0430\\u0436\\u0434\\u0430\\u0442\\u044c\\u0441\\u044f \\u0434\\u0430\\u043d\\u043d\\u044b\\u043c \\u0448\\u0435\\u0434\\u0435\\u0432\\u0440\\u043e\\u043c! \\u0421\\u0434\\u0435\\u043b\\u0430\\u043d\\u043e \\u0434\\u043e\\u0440\\u043e\\u0433\\u043e \\u0438 \\u043a\\u0430\\u0447\\u0435\\u0441\\u0442\\u0432\\u0435\\u043d\\u043d\\u043e. \\u041f\\u0438\\u0440\\u0430\\u043c\\u0438\\u0434\\u0430 \\u0437\\u0434\\u0435\\u0441\\u044c \\u043d\\u0435 \\u0432\\u0441\\u044f, \\u041f\\u043e\\u043b\\u043d\\u0430\\u044f \\u043f\\u0438\\u0440\\u0430\\u043c\\u0438\\u0434\\u0430: \\u0434\\u0438\\u043a\\u0438\\u0435 \\u044f\\u0433\\u043e\\u0434\\u044b, \\u043c\\u0430\\u043d\\u0434\\u0430\\u0440\\u0438\\u043d, \\u0436\\u0438\\u043c\\u043e\\u043b\\u043e\\u0441\\u0442\\u044c, \\u0433\\u0430\\u0440\\u0434\\u0435\\u043d\\u0438\\u044f, \\u0436\\u0430\\u0441\\u043c\\u0438\\u043d \\u0441\\u0430\\u043c\\u0431\\u0430\\u043a, \\u0430\\u043c\\u0431\\u0440\\u0430, \\u043a\\u0430\\u0440\\u0430\\u043c\\u0435\\u043b\\u044c, \\u0432\\u0430\\u043d\\u0438\\u043b\\u044c, \\u0441\\u0430\\u043d\\u0434\\u0430\\u043b\",\n          \"\\u0425\\u043e\\u0441\\u043f\\u0430\\u0434\\u0438...\\u043d\\u0443 \\u0438 \\u043f\\u0438\\u0440\\u0430\\u043c\\u0438\\u0434\\u043a\\u0430 \\u0442\\u0443\\u0442 \\u0443\\u043a\\u0430\\u0437\\u0430\\u043d\\u0430. \\u042d\\u0442\\u043e \\u043e\\u0444\\u0438\\u0446 \\u0438\\u043d\\u0444\\u043e \\u0438\\u043b\\u0438 \\u00ab\\u043d\\u0430 \\u043d\\u044e\\u0445\\u00bb \\u043e\\u043f\\u0440\\u0435\\u0434\\u0435\\u043b\\u044f\\u043b\\u0438 ))))??\\n\\u041c\\u043d\\u0435 \\u043f\\u0430\\u0440\\u0444\\u044e\\u043c \\u0441\\u043b\\u044b\\u0448\\u0435\\u043d \\u0440\\u0430\\u0437\\u0431\\u0430\\u0432\\u043b\\u0435\\u043d\\u043d\\u044b\\u043c \\u043a\\u0430\\u043a\\u0430\\u043e \\u0438 \\u043c\\u0435\\u0442\\u0430\\u043b\\u043b\\u0438\\u0447\\u0435\\u0441\\u043a\\u0438\\u043c\\u0438 \\u043d\\u043e\\u0442\\u0430\\u043c\\u0438. \\u0418 \\u0442\\u043e \\u0438 \\u0434\\u0440 - \\u043e\\u0447\\u0435\\u043d\\u044c \\u0433\\u0440\\u043e\\u043c\\u043a\\u043e.\\n\\u041d\\u043e\\u0442\\u043e\\u0439 \\u00ab\\u043c\\u0435\\u0442\\u0430\\u043b\\u043b\\u0430\\u00bb \\u043f\\u0430\\u0440\\u0444\\u044e\\u043c\\u0435\\u0440\\u043d\\u043e\\u0439 \\u0443\\u0436\\u0435 \\u043d\\u0438\\u043a\\u043e\\u0433\\u043e \\u043d\\u0435 \\u0443\\u0434\\u0438\\u0432\\u0438\\u0448\\u044c. \\u0427\\u0442\\u043e \\u043e\\u0441\\u043e\\u0431\\u0435\\u043d\\u043d\\u043e\\u0433\\u043e \\u0432 \\u0430\\u0440\\u043e\\u043c\\u0430\\u0442\\u0435, \\u044f \\u0442\\u0430\\u043a \\u0438 \\u043d\\u0435 \\u043f\\u043e\\u043d\\u044f\\u043b\\u0430. \\u041c\\u043e\\u0436\\u0435\\u0442 \\u0438\\u043c\\u0435\\u043d\\u043d\\u043e \\u0434\\u043b\\u044f \\u043b\\u0438\\u043d\\u0435\\u0439\\u043a\\u0438 \\u041d\\u0430\\u0441\\u043e\\u043c\\u0430\\u0442\\u043e - \\u0434\\u0430, \\u043d\\u043e\\u0432\\u0435\\u043d\\u044c\\u043a\\u043e\\u0435. \\u041d\\u0430 \\u043e\\u0431\\u0449\\u0435\\u043c \\u043e\\u043b\\u044c\\u0444\\u0430\\u043a\\u0442\\u043e\\u0440\\u043d\\u043e\\u043c \\u0444\\u043e\\u043d\\u0435 - \\u043d\\u0435 \\u0432\\u043f\\u0435\\u0447\\u0430\\u0442\\u043b\\u0438\\u043b(\"\n        ],\n        \"semantic_type\": \"\",\n        \"description\": \"\"\n      }\n    }\n  ]\n}"
            }
          },
          "metadata": {},
          "execution_count": 27
        }
      ]
    },
    {
      "cell_type": "code",
      "source": [
        "rows_to_drop = [0, 4, 6, 542, 16065, 16949, 18024, 22913, 22518, 22514, 22509, 22084, 22205, 22214, 22298, 11107, 10891, 766, 6173, 6687, 15522, 10191, 15902, 13139, 13173, 13177, 22976, 14964, 994, 1019, 19388, 19446, 19809, 20779]"
      ],
      "metadata": {
        "id": "9uHPEFRQwOfG"
      },
      "execution_count": null,
      "outputs": []
    },
    {
      "cell_type": "code",
      "source": [
        "corpus = all_corpus.drop(all_corpus.index[rows_to_drop])"
      ],
      "metadata": {
        "id": "LRmpMb1Eo5sG"
      },
      "execution_count": null,
      "outputs": []
    },
    {
      "cell_type": "code",
      "source": [
        "corpus"
      ],
      "metadata": {
        "colab": {
          "base_uri": "https://localhost:8080/",
          "height": 411
        },
        "id": "lsz8S7PrwTi4",
        "outputId": "e4ee58f9-d3e4-47df-ee10-708fd23e68c9"
      },
      "execution_count": null,
      "outputs": [
        {
          "output_type": "execute_result",
          "data": {
            "text/plain": [
              "                                               fragrance            date  \\\n",
              "1      Liquide Les Liquides Imaginaires для мужчин и ...  02/09/23 04:08   \n",
              "2      Liquide Les Liquides Imaginaires для мужчин и ...  02/07/23 10:27   \n",
              "3      Liquide Les Liquides Imaginaires для мужчин и ...  02/06/23 03:21   \n",
              "5      Liquide Les Liquides Imaginaires для мужчин и ...  12/13/22 13:17   \n",
              "7      Liquide Les Liquides Imaginaires для мужчин и ...  02/06/23 03:21   \n",
              "...                                                  ...             ...   \n",
              "27239          Uden Overdose Xerjoff для мужчин и женщин  12/22/21 12:30   \n",
              "27240          Uden Overdose Xerjoff для мужчин и женщин  09/16/23 08:06   \n",
              "27241          Uden Overdose Xerjoff для мужчин и женщин  05/19/23 12:24   \n",
              "27242                   P.33 Xerjoff для мужчин и женщин  10/05/22 08:27   \n",
              "27243                   P.33 Xerjoff для мужчин и женщин  09/30/22 02:09   \n",
              "\n",
              "       user ID                                        review body  \n",
              "1       315169  Начало великолепное. Шафран, что-то цветочное ...  \n",
              "2       174665  Пожалуй, это самый красивый шафраноцентричный ...  \n",
              "3       226535  Очень приятный и красивый))\\nНа моей коже держ...  \n",
              "5       250880  Приятный невесомый ароматец... Стартует легким...  \n",
              "7       226535  Очень приятный и красивый))\\nНа моей коже держ...  \n",
              "...        ...                                                ...  \n",
              "27239   253909  Дорого, классически и презентабельно. Дорого н...  \n",
              "27240   309405  Какой же он красивый, не похож ни на что, выде...  \n",
              "27241   338795  Красивый, богатый, даже роскошный аромат. Как ...  \n",
              "27242   294907  Стартует громко и уверенно, но совершенно неож...  \n",
              "27243   279498  Сначала жутко не понравился. Какой - то он не ...  \n",
              "\n",
              "[27210 rows x 4 columns]"
            ],
            "text/html": [
              "\n",
              "  <div id=\"df-654c9e94-1b00-4c3e-91c7-108233e06876\" class=\"colab-df-container\">\n",
              "    <div>\n",
              "<style scoped>\n",
              "    .dataframe tbody tr th:only-of-type {\n",
              "        vertical-align: middle;\n",
              "    }\n",
              "\n",
              "    .dataframe tbody tr th {\n",
              "        vertical-align: top;\n",
              "    }\n",
              "\n",
              "    .dataframe thead th {\n",
              "        text-align: right;\n",
              "    }\n",
              "</style>\n",
              "<table border=\"1\" class=\"dataframe\">\n",
              "  <thead>\n",
              "    <tr style=\"text-align: right;\">\n",
              "      <th></th>\n",
              "      <th>fragrance</th>\n",
              "      <th>date</th>\n",
              "      <th>user ID</th>\n",
              "      <th>review body</th>\n",
              "    </tr>\n",
              "  </thead>\n",
              "  <tbody>\n",
              "    <tr>\n",
              "      <th>1</th>\n",
              "      <td>Liquide Les Liquides Imaginaires для мужчин и ...</td>\n",
              "      <td>02/09/23 04:08</td>\n",
              "      <td>315169</td>\n",
              "      <td>Начало великолепное. Шафран, что-то цветочное ...</td>\n",
              "    </tr>\n",
              "    <tr>\n",
              "      <th>2</th>\n",
              "      <td>Liquide Les Liquides Imaginaires для мужчин и ...</td>\n",
              "      <td>02/07/23 10:27</td>\n",
              "      <td>174665</td>\n",
              "      <td>Пожалуй, это самый красивый шафраноцентричный ...</td>\n",
              "    </tr>\n",
              "    <tr>\n",
              "      <th>3</th>\n",
              "      <td>Liquide Les Liquides Imaginaires для мужчин и ...</td>\n",
              "      <td>02/06/23 03:21</td>\n",
              "      <td>226535</td>\n",
              "      <td>Очень приятный и красивый))\\nНа моей коже держ...</td>\n",
              "    </tr>\n",
              "    <tr>\n",
              "      <th>5</th>\n",
              "      <td>Liquide Les Liquides Imaginaires для мужчин и ...</td>\n",
              "      <td>12/13/22 13:17</td>\n",
              "      <td>250880</td>\n",
              "      <td>Приятный невесомый ароматец... Стартует легким...</td>\n",
              "    </tr>\n",
              "    <tr>\n",
              "      <th>7</th>\n",
              "      <td>Liquide Les Liquides Imaginaires для мужчин и ...</td>\n",
              "      <td>02/06/23 03:21</td>\n",
              "      <td>226535</td>\n",
              "      <td>Очень приятный и красивый))\\nНа моей коже держ...</td>\n",
              "    </tr>\n",
              "    <tr>\n",
              "      <th>...</th>\n",
              "      <td>...</td>\n",
              "      <td>...</td>\n",
              "      <td>...</td>\n",
              "      <td>...</td>\n",
              "    </tr>\n",
              "    <tr>\n",
              "      <th>27239</th>\n",
              "      <td>Uden Overdose Xerjoff для мужчин и женщин</td>\n",
              "      <td>12/22/21 12:30</td>\n",
              "      <td>253909</td>\n",
              "      <td>Дорого, классически и презентабельно. Дорого н...</td>\n",
              "    </tr>\n",
              "    <tr>\n",
              "      <th>27240</th>\n",
              "      <td>Uden Overdose Xerjoff для мужчин и женщин</td>\n",
              "      <td>09/16/23 08:06</td>\n",
              "      <td>309405</td>\n",
              "      <td>Какой же он красивый, не похож ни на что, выде...</td>\n",
              "    </tr>\n",
              "    <tr>\n",
              "      <th>27241</th>\n",
              "      <td>Uden Overdose Xerjoff для мужчин и женщин</td>\n",
              "      <td>05/19/23 12:24</td>\n",
              "      <td>338795</td>\n",
              "      <td>Красивый, богатый, даже роскошный аромат. Как ...</td>\n",
              "    </tr>\n",
              "    <tr>\n",
              "      <th>27242</th>\n",
              "      <td>P.33 Xerjoff для мужчин и женщин</td>\n",
              "      <td>10/05/22 08:27</td>\n",
              "      <td>294907</td>\n",
              "      <td>Стартует громко и уверенно, но совершенно неож...</td>\n",
              "    </tr>\n",
              "    <tr>\n",
              "      <th>27243</th>\n",
              "      <td>P.33 Xerjoff для мужчин и женщин</td>\n",
              "      <td>09/30/22 02:09</td>\n",
              "      <td>279498</td>\n",
              "      <td>Сначала жутко не понравился. Какой - то он не ...</td>\n",
              "    </tr>\n",
              "  </tbody>\n",
              "</table>\n",
              "<p>27210 rows × 4 columns</p>\n",
              "</div>\n",
              "    <div class=\"colab-df-buttons\">\n",
              "\n",
              "  <div class=\"colab-df-container\">\n",
              "    <button class=\"colab-df-convert\" onclick=\"convertToInteractive('df-654c9e94-1b00-4c3e-91c7-108233e06876')\"\n",
              "            title=\"Convert this dataframe to an interactive table.\"\n",
              "            style=\"display:none;\">\n",
              "\n",
              "  <svg xmlns=\"http://www.w3.org/2000/svg\" height=\"24px\" viewBox=\"0 -960 960 960\">\n",
              "    <path d=\"M120-120v-720h720v720H120Zm60-500h600v-160H180v160Zm220 220h160v-160H400v160Zm0 220h160v-160H400v160ZM180-400h160v-160H180v160Zm440 0h160v-160H620v160ZM180-180h160v-160H180v160Zm440 0h160v-160H620v160Z\"/>\n",
              "  </svg>\n",
              "    </button>\n",
              "\n",
              "  <style>\n",
              "    .colab-df-container {\n",
              "      display:flex;\n",
              "      gap: 12px;\n",
              "    }\n",
              "\n",
              "    .colab-df-convert {\n",
              "      background-color: #E8F0FE;\n",
              "      border: none;\n",
              "      border-radius: 50%;\n",
              "      cursor: pointer;\n",
              "      display: none;\n",
              "      fill: #1967D2;\n",
              "      height: 32px;\n",
              "      padding: 0 0 0 0;\n",
              "      width: 32px;\n",
              "    }\n",
              "\n",
              "    .colab-df-convert:hover {\n",
              "      background-color: #E2EBFA;\n",
              "      box-shadow: 0px 1px 2px rgba(60, 64, 67, 0.3), 0px 1px 3px 1px rgba(60, 64, 67, 0.15);\n",
              "      fill: #174EA6;\n",
              "    }\n",
              "\n",
              "    .colab-df-buttons div {\n",
              "      margin-bottom: 4px;\n",
              "    }\n",
              "\n",
              "    [theme=dark] .colab-df-convert {\n",
              "      background-color: #3B4455;\n",
              "      fill: #D2E3FC;\n",
              "    }\n",
              "\n",
              "    [theme=dark] .colab-df-convert:hover {\n",
              "      background-color: #434B5C;\n",
              "      box-shadow: 0px 1px 3px 1px rgba(0, 0, 0, 0.15);\n",
              "      filter: drop-shadow(0px 1px 2px rgba(0, 0, 0, 0.3));\n",
              "      fill: #FFFFFF;\n",
              "    }\n",
              "  </style>\n",
              "\n",
              "    <script>\n",
              "      const buttonEl =\n",
              "        document.querySelector('#df-654c9e94-1b00-4c3e-91c7-108233e06876 button.colab-df-convert');\n",
              "      buttonEl.style.display =\n",
              "        google.colab.kernel.accessAllowed ? 'block' : 'none';\n",
              "\n",
              "      async function convertToInteractive(key) {\n",
              "        const element = document.querySelector('#df-654c9e94-1b00-4c3e-91c7-108233e06876');\n",
              "        const dataTable =\n",
              "          await google.colab.kernel.invokeFunction('convertToInteractive',\n",
              "                                                    [key], {});\n",
              "        if (!dataTable) return;\n",
              "\n",
              "        const docLinkHtml = 'Like what you see? Visit the ' +\n",
              "          '<a target=\"_blank\" href=https://colab.research.google.com/notebooks/data_table.ipynb>data table notebook</a>'\n",
              "          + ' to learn more about interactive tables.';\n",
              "        element.innerHTML = '';\n",
              "        dataTable['output_type'] = 'display_data';\n",
              "        await google.colab.output.renderOutput(dataTable, element);\n",
              "        const docLink = document.createElement('div');\n",
              "        docLink.innerHTML = docLinkHtml;\n",
              "        element.appendChild(docLink);\n",
              "      }\n",
              "    </script>\n",
              "  </div>\n",
              "\n",
              "\n",
              "<div id=\"df-356fec75-ea62-4186-870a-04973312d068\">\n",
              "  <button class=\"colab-df-quickchart\" onclick=\"quickchart('df-356fec75-ea62-4186-870a-04973312d068')\"\n",
              "            title=\"Suggest charts\"\n",
              "            style=\"display:none;\">\n",
              "\n",
              "<svg xmlns=\"http://www.w3.org/2000/svg\" height=\"24px\"viewBox=\"0 0 24 24\"\n",
              "     width=\"24px\">\n",
              "    <g>\n",
              "        <path d=\"M19 3H5c-1.1 0-2 .9-2 2v14c0 1.1.9 2 2 2h14c1.1 0 2-.9 2-2V5c0-1.1-.9-2-2-2zM9 17H7v-7h2v7zm4 0h-2V7h2v10zm4 0h-2v-4h2v4z\"/>\n",
              "    </g>\n",
              "</svg>\n",
              "  </button>\n",
              "\n",
              "<style>\n",
              "  .colab-df-quickchart {\n",
              "      --bg-color: #E8F0FE;\n",
              "      --fill-color: #1967D2;\n",
              "      --hover-bg-color: #E2EBFA;\n",
              "      --hover-fill-color: #174EA6;\n",
              "      --disabled-fill-color: #AAA;\n",
              "      --disabled-bg-color: #DDD;\n",
              "  }\n",
              "\n",
              "  [theme=dark] .colab-df-quickchart {\n",
              "      --bg-color: #3B4455;\n",
              "      --fill-color: #D2E3FC;\n",
              "      --hover-bg-color: #434B5C;\n",
              "      --hover-fill-color: #FFFFFF;\n",
              "      --disabled-bg-color: #3B4455;\n",
              "      --disabled-fill-color: #666;\n",
              "  }\n",
              "\n",
              "  .colab-df-quickchart {\n",
              "    background-color: var(--bg-color);\n",
              "    border: none;\n",
              "    border-radius: 50%;\n",
              "    cursor: pointer;\n",
              "    display: none;\n",
              "    fill: var(--fill-color);\n",
              "    height: 32px;\n",
              "    padding: 0;\n",
              "    width: 32px;\n",
              "  }\n",
              "\n",
              "  .colab-df-quickchart:hover {\n",
              "    background-color: var(--hover-bg-color);\n",
              "    box-shadow: 0 1px 2px rgba(60, 64, 67, 0.3), 0 1px 3px 1px rgba(60, 64, 67, 0.15);\n",
              "    fill: var(--button-hover-fill-color);\n",
              "  }\n",
              "\n",
              "  .colab-df-quickchart-complete:disabled,\n",
              "  .colab-df-quickchart-complete:disabled:hover {\n",
              "    background-color: var(--disabled-bg-color);\n",
              "    fill: var(--disabled-fill-color);\n",
              "    box-shadow: none;\n",
              "  }\n",
              "\n",
              "  .colab-df-spinner {\n",
              "    border: 2px solid var(--fill-color);\n",
              "    border-color: transparent;\n",
              "    border-bottom-color: var(--fill-color);\n",
              "    animation:\n",
              "      spin 1s steps(1) infinite;\n",
              "  }\n",
              "\n",
              "  @keyframes spin {\n",
              "    0% {\n",
              "      border-color: transparent;\n",
              "      border-bottom-color: var(--fill-color);\n",
              "      border-left-color: var(--fill-color);\n",
              "    }\n",
              "    20% {\n",
              "      border-color: transparent;\n",
              "      border-left-color: var(--fill-color);\n",
              "      border-top-color: var(--fill-color);\n",
              "    }\n",
              "    30% {\n",
              "      border-color: transparent;\n",
              "      border-left-color: var(--fill-color);\n",
              "      border-top-color: var(--fill-color);\n",
              "      border-right-color: var(--fill-color);\n",
              "    }\n",
              "    40% {\n",
              "      border-color: transparent;\n",
              "      border-right-color: var(--fill-color);\n",
              "      border-top-color: var(--fill-color);\n",
              "    }\n",
              "    60% {\n",
              "      border-color: transparent;\n",
              "      border-right-color: var(--fill-color);\n",
              "    }\n",
              "    80% {\n",
              "      border-color: transparent;\n",
              "      border-right-color: var(--fill-color);\n",
              "      border-bottom-color: var(--fill-color);\n",
              "    }\n",
              "    90% {\n",
              "      border-color: transparent;\n",
              "      border-bottom-color: var(--fill-color);\n",
              "    }\n",
              "  }\n",
              "</style>\n",
              "\n",
              "  <script>\n",
              "    async function quickchart(key) {\n",
              "      const quickchartButtonEl =\n",
              "        document.querySelector('#' + key + ' button');\n",
              "      quickchartButtonEl.disabled = true;  // To prevent multiple clicks.\n",
              "      quickchartButtonEl.classList.add('colab-df-spinner');\n",
              "      try {\n",
              "        const charts = await google.colab.kernel.invokeFunction(\n",
              "            'suggestCharts', [key], {});\n",
              "      } catch (error) {\n",
              "        console.error('Error during call to suggestCharts:', error);\n",
              "      }\n",
              "      quickchartButtonEl.classList.remove('colab-df-spinner');\n",
              "      quickchartButtonEl.classList.add('colab-df-quickchart-complete');\n",
              "    }\n",
              "    (() => {\n",
              "      let quickchartButtonEl =\n",
              "        document.querySelector('#df-356fec75-ea62-4186-870a-04973312d068 button');\n",
              "      quickchartButtonEl.style.display =\n",
              "        google.colab.kernel.accessAllowed ? 'block' : 'none';\n",
              "    })();\n",
              "  </script>\n",
              "</div>\n",
              "    </div>\n",
              "  </div>\n"
            ],
            "application/vnd.google.colaboratory.intrinsic+json": {
              "type": "dataframe",
              "variable_name": "corpus",
              "repr_error": "0"
            }
          },
          "metadata": {},
          "execution_count": 31
        }
      ]
    },
    {
      "cell_type": "code",
      "source": [
        "texts = list(corpus['review body'])"
      ],
      "metadata": {
        "id": "QDsk2N77wewR"
      },
      "execution_count": null,
      "outputs": []
    },
    {
      "cell_type": "code",
      "source": [
        "texts[0:2]"
      ],
      "metadata": {
        "colab": {
          "base_uri": "https://localhost:8080/"
        },
        "id": "V0w0G29rwk1o",
        "outputId": "26394c99-c9ff-492e-efc4-be9839a2996f"
      },
      "execution_count": null,
      "outputs": [
        {
          "output_type": "execute_result",
          "data": {
            "text/plain": [
              "['Начало великолепное. Шафран, что-то цветочное и ладан. Хоть ладана и нет в пирамиде, но для меня слияние неких нот его даёт. Все это очень сглажено, женственно. Почерк Квентина Биша узнаваем тем моментом, что проскакивает нечто от Ганимеда. Это нечто и шафран, и некая химическая свежесть. Хоть и повторюсь, при этом аромат сглажен, женственен. Восторг. Чуть не купила полный флакон. Но. Потом аромат пошел в пудровую замшевость.А через час он уже кричит мускусом, цветами и бабушкиным шкафом, распугав весь шафран и свежесть,которых будто и не было. Нет. Мускус и ретро цветы. Уф, хорошо, что не купила. Аферист этот ваш Liqvide и притворился не тем, кем является. Весьма удачно причем принял поначалу заманчивый облик. Но работа бесспорно крутая, хоть и не бесцеллер. Многогранная и манкая, с некой женской харизмой. Но, увы, не мое.',\n",
              " 'Пожалуй, это самый красивый шафраноцентричный аромат, что я знаю. Шафран здесь трендово-люксовый, как в ароматах Carolina Herrera или Paco Rabanne, при этом подан так, что любая ниша обзавидуется: его амброво-древесная сторона доработана напильником и совершенно лишена пронзительности, а значит не травмирует рецепторы; пряной же стороне придан замшевый оттенок. Все утопает в сладковато-мягкой перине ванили, белых мускусов и белых цветов. Приветливый, очень располагающий к себе древесно-пряный аромат. А флакон-слиток — вообще сорочья мечта. То есть моя. :) Люблю такое, грешен.']"
            ]
          },
          "metadata": {},
          "execution_count": 38
        }
      ]
    },
    {
      "cell_type": "code",
      "source": [
        "len(texts)"
      ],
      "metadata": {
        "colab": {
          "base_uri": "https://localhost:8080/"
        },
        "id": "bpOqh1esxPhZ",
        "outputId": "a45053f9-6e35-4566-c5a4-b1e6b538ea28"
      },
      "execution_count": null,
      "outputs": [
        {
          "output_type": "execute_result",
          "data": {
            "text/plain": [
              "27210"
            ]
          },
          "metadata": {},
          "execution_count": 39
        }
      ]
    },
    {
      "cell_type": "code",
      "source": [
        "texts = lemmatize_text(texts)"
      ],
      "metadata": {
        "id": "J7_6mQs50DDA"
      },
      "execution_count": null,
      "outputs": []
    },
    {
      "cell_type": "markdown",
      "source": [
        "Модель Word2Vec, обученная на корпусе отзывов о парфюмерии (ок. 1,5 млн словоупотреблений)"
      ],
      "metadata": {
        "id": "-Hgurv7zBGCY"
      }
    },
    {
      "cell_type": "code",
      "source": [
        "import multiprocessing\n",
        "import gensim\n",
        "from gensim.models import Word2Vec\n",
        "import re\n",
        "import gensim.downloader\n",
        "import pandas as pd"
      ],
      "metadata": {
        "id": "aCdtB9_f_bQk"
      },
      "execution_count": null,
      "outputs": []
    },
    {
      "cell_type": "code",
      "source": [
        "frags = pd.read_csv('all_corpus.csv')"
      ],
      "metadata": {
        "id": "2TORrTbT9a51"
      },
      "execution_count": null,
      "outputs": []
    },
    {
      "cell_type": "code",
      "source": [
        "from pymystem3 import Mystem"
      ],
      "metadata": {
        "id": "HidUTia788cX"
      },
      "execution_count": null,
      "outputs": []
    },
    {
      "cell_type": "code",
      "source": [
        "mystem = Mystem()\n",
        "\n",
        "def lemmatize_text(text):\n",
        "    lemmatized_text = []\n",
        "    for sentence in text:\n",
        "        lemmas = mystem.lemmatize(sentence)\n",
        "        lemmas = [lemma for lemma in lemmas if lemma[0].isalpha() and lemma not in stop_words]\n",
        "        lemmatized_text.append(' '.join(lemmas))\n",
        "    return lemmatized_text\n"
      ],
      "metadata": {
        "id": "PzcM8YBk9NmD"
      },
      "execution_count": null,
      "outputs": []
    },
    {
      "cell_type": "code",
      "source": [
        "import nltk\n",
        "nltk.download('stopwords')\n",
        "from nltk.corpus import stopwords\n",
        "stop_words = set(stopwords.words('russian') + [\"ваш\", \"кмк\", \"наш\", \"твой\", \"мой\", \"тебе\", \"свой\",  \"лишь\", \"весь\", \"который\", \"котрый\" \"kilian\", \"килиан\", \"goodsir\", \"nudiflorum\", \"memo\", \"гудзир\", \"байрэдо\", \"lli\", \"liquides\", \"imaginaires\", \"nuda\", \"nasomatto\", \"byredo\", \"sadonaso\", \"vilhelm\", \"parfumerie\", \"baccarat\", \"kirke\", \"maison\", \"kurkdjian\", \"francis\", \"mfk\", \"serge lutens\", \"serge\", \"lutens\", \"yves saint laurent\", \"saint laurent\", \"ysl\", \"dior\", \"xerjoff\", \"tf\", \"tom ford\", \"ford\", \"tom\", \"frederic\", \"malle\", \"chloe\", \"ganymede\", \"hermès\", \"margiela\", \"guerlain\"])\n"
      ],
      "metadata": {
        "colab": {
          "base_uri": "https://localhost:8080/"
        },
        "id": "DeT9zxAk90Ox",
        "outputId": "2418ee7c-8b55-439e-e3fa-f2c387bcd4c0"
      },
      "execution_count": null,
      "outputs": [
        {
          "output_type": "stream",
          "name": "stderr",
          "text": [
            "[nltk_data] Downloading package stopwords to /root/nltk_data...\n",
            "[nltk_data]   Package stopwords is already up-to-date!\n"
          ]
        }
      ]
    },
    {
      "cell_type": "code",
      "source": [
        "frags['lemmas'] = lemmatize_text(frags['review body'])"
      ],
      "metadata": {
        "id": "fgpMACV78wDs"
      },
      "execution_count": null,
      "outputs": []
    },
    {
      "cell_type": "code",
      "source": [
        "texts = frags['lemmas']"
      ],
      "metadata": {
        "id": "8WS2a-Io9-eY"
      },
      "execution_count": null,
      "outputs": []
    },
    {
      "cell_type": "code",
      "source": [
        "print(texts[0][:500])"
      ],
      "metadata": {
        "colab": {
          "base_uri": "https://localhost:8080/"
        },
        "id": "2nWeHHY1_YUN",
        "outputId": "6428f7a9-5607-43e7-b695-6c7eeb84af9b"
      },
      "execution_count": null,
      "outputs": [
        {
          "output_type": "stream",
          "name": "stdout",
          "text": [
            "очень привередливый аромат разнашивать вдвоем подруга нечто ганимедоподобный убойно шафрановый несколько час гуашь гуашистый ваниль явно аромат следовать брать вслепую\n"
          ]
        }
      ]
    },
    {
      "cell_type": "code",
      "source": [
        "frags_sentences = []\n",
        "\n",
        "for text in texts:\n",
        "  sents = text.split('\\n')\n",
        "  for sent in sents:\n",
        "    if len(sent) > 5:\n",
        "      frags_sentences.append(sent)"
      ],
      "metadata": {
        "id": "_XlReo18Vqve"
      },
      "execution_count": null,
      "outputs": []
    },
    {
      "cell_type": "code",
      "source": [
        "len(frags_sentences)"
      ],
      "metadata": {
        "colab": {
          "base_uri": "https://localhost:8080/"
        },
        "id": "VZSYsRbPV-a8",
        "outputId": "ea1af68d-8963-4a19-9e1c-1dfedc9967fb"
      },
      "execution_count": null,
      "outputs": [
        {
          "output_type": "execute_result",
          "data": {
            "text/plain": [
              "27237"
            ]
          },
          "metadata": {},
          "execution_count": 13
        }
      ]
    },
    {
      "cell_type": "code",
      "source": [
        "frags_sentences[:5]"
      ],
      "metadata": {
        "colab": {
          "base_uri": "https://localhost:8080/"
        },
        "id": "Gqz7JTFeWAfq",
        "outputId": "03711e32-515e-4ff2-baa3-226c7816aaf9"
      },
      "execution_count": null,
      "outputs": [
        {
          "output_type": "execute_result",
          "data": {
            "text/plain": [
              "['очень привередливый аромат разнашивать вдвоем подруга нечто ганимедоподобный убойно шафрановый несколько час гуашь гуашистый ваниль явно аромат следовать брать вслепую',\n",
              " 'начало великолепный шафран что-то цветочный ладан ладан пирамида слияние некий нота оно давать это очень сглаживать женственно почерк квентин биша узнавать момент проскакивать нечто ганимед это нечто шафран некий химический свежесть повторяться это аромат сглаживать женственный восторг купить полный флакон аромат пойти пудровый замшевость час кричать мускус цветок бабушкин шкаф распугать шафран свежесть мускус ретро цветок уф купить аферист Liqvide притворяться являться весьма удачно причем принимать поначалу заманчивый облик работа бесспорно крутой бесцеллер многогранный манкай некий женский харизма увы',\n",
              " 'пожалуй это самый красивый шафраноцентричный аромат знать шафран трендовый люксовый аромат Carolina Herrera Paco Rabanne это подавать любой ниша обзавидуться амбровый древесный сторона дорабатывать напильник совершенно лишать пронзительность значит травмировать рецептор пряный сторона придавать замшевый оттенок утопать сладковатый мягкий перина ваниль белый мускус белый цветок приветливый очень располагать древесный пряный аромат флакон слиток вообще сорочий мечта любить грешный',\n",
              " 'очень приятный красивый кожа держаться час сексуальный бесспорно агрессия вроде мягкий домашний какой-то странный подтекст нежность это ый аромат линейка Les Liquides Imaginaires коллекция P S успевать приобретать очень приемлемый похожесть вариант это Rhum Tabac Sud Pacifique',\n",
              " 'это очень нежный акварельный сладкий фруктовый медовый цветочный воздушный солнечный B683 Extrait кожаный аккорд вид тонкий перчаточный замша изредка легкий дуновение прошлейфить ганимедовский сталь аромат мощь напор предпочитать спокойствие умиротворение']"
            ]
          },
          "metadata": {},
          "execution_count": 30
        }
      ]
    },
    {
      "cell_type": "code",
      "source": [
        "tokenized_sentences = [re.findall('\\w+', s) for s in frags_sentences]"
      ],
      "metadata": {
        "id": "25Yc2lN2UryE"
      },
      "execution_count": null,
      "outputs": []
    },
    {
      "cell_type": "code",
      "source": [
        "tokenized_sentences[10]"
      ],
      "metadata": {
        "colab": {
          "base_uri": "https://localhost:8080/"
        },
        "id": "U_1QTd6Z7MES",
        "outputId": "4c10bd49-07a1-47ae-8e9e-c019ff3e58e6"
      },
      "execution_count": null,
      "outputs": [
        {
          "output_type": "execute_result",
          "data": {
            "text/plain": [
              "['аромат',\n",
              " 'навевать',\n",
              " 'воспоминание',\n",
              " 'детство',\n",
              " 'рынок',\n",
              " 'покупать',\n",
              " 'дубленка',\n",
              " 'доказывать',\n",
              " 'это',\n",
              " 'настоящий',\n",
              " 'кожа',\n",
              " 'шерсть',\n",
              " 'продавец',\n",
              " 'поджигать',\n",
              " 'образец',\n",
              " 'Liquid',\n",
              " 'пахнуть',\n",
              " 'именно',\n",
              " 'поздно',\n",
              " 'аромат',\n",
              " 'успокаиваться',\n",
              " 'становиться',\n",
              " 'менее',\n",
              " 'резкий',\n",
              " 'пикантный',\n",
              " 'начало',\n",
              " 'стоить',\n",
              " 'дорого',\n",
              " 'поэтому',\n",
              " 'вслепую',\n",
              " 'стоить',\n",
              " 'брать',\n",
              " 'любить',\n",
              " 'кожаный',\n",
              " 'направление',\n",
              " 'советовать']"
            ]
          },
          "metadata": {},
          "execution_count": 16
        }
      ]
    },
    {
      "cell_type": "code",
      "source": [
        "cores = multiprocessing.cpu_count()"
      ],
      "metadata": {
        "id": "n_z4zcac_r6L"
      },
      "execution_count": null,
      "outputs": []
    },
    {
      "cell_type": "code",
      "source": [
        "cores"
      ],
      "metadata": {
        "colab": {
          "base_uri": "https://localhost:8080/"
        },
        "id": "x_iwVhyhGP1I",
        "outputId": "1b7d8c6b-bdc5-4968-d696-c01a967082e9"
      },
      "execution_count": null,
      "outputs": [
        {
          "output_type": "execute_result",
          "data": {
            "text/plain": [
              "2"
            ]
          },
          "metadata": {},
          "execution_count": 25
        }
      ]
    },
    {
      "cell_type": "code",
      "source": [
        "w2v_model = Word2Vec(min_count=5,\n",
        "                     window=2,\n",
        "                     sample=1e-5,\n",
        "                     alpha=0.03,\n",
        "                     min_alpha=0.0007,\n",
        "                     negative=20,\n",
        "                     workers=cores-1)"
      ],
      "metadata": {
        "id": "6MwLygyP_tVz"
      },
      "execution_count": null,
      "outputs": []
    },
    {
      "cell_type": "code",
      "source": [
        "w2v_model.build_vocab(tokenized_sentences)"
      ],
      "metadata": {
        "id": "3rRkAtNT7OJ5"
      },
      "execution_count": null,
      "outputs": []
    },
    {
      "cell_type": "code",
      "source": [
        "w2v_model.corpus_count"
      ],
      "metadata": {
        "colab": {
          "base_uri": "https://localhost:8080/"
        },
        "id": "cGR82SPtHQX0",
        "outputId": "4eddb0e2-8ac2-4a03-e526-d8e49f748acc"
      },
      "execution_count": null,
      "outputs": [
        {
          "output_type": "execute_result",
          "data": {
            "text/plain": [
              "27237"
            ]
          },
          "metadata": {},
          "execution_count": 96
        }
      ]
    },
    {
      "cell_type": "code",
      "source": [
        "%%time\n",
        "w2v_model.train(tokenized_sentences, total_examples=w2v_model.corpus_count, epochs=50)"
      ],
      "metadata": {
        "colab": {
          "base_uri": "https://localhost:8080/"
        },
        "id": "Dj6rgnfJ7YVF",
        "outputId": "92ce3616-48ec-460c-a347-1a47b6d5362b"
      },
      "execution_count": null,
      "outputs": [
        {
          "output_type": "stream",
          "name": "stdout",
          "text": [
            "CPU times: user 2min 15s, sys: 614 ms, total: 2min 16s\n",
            "Wall time: 2min 19s\n"
          ]
        },
        {
          "output_type": "execute_result",
          "data": {
            "text/plain": [
              "(17132842, 60228200)"
            ]
          },
          "metadata": {},
          "execution_count": 97
        }
      ]
    },
    {
      "cell_type": "code",
      "source": [
        "w2v_model.wv.most_similar('аромат')"
      ],
      "metadata": {
        "colab": {
          "base_uri": "https://localhost:8080/"
        },
        "id": "OhZdQ1RhBc_f",
        "outputId": "c33dafd2-a984-4492-b632-ea3f7bb19259"
      },
      "execution_count": null,
      "outputs": [
        {
          "output_type": "execute_result",
          "data": {
            "text/plain": [
              "[('нескучный', 0.7108379602432251),\n",
              " ('нестандартно', 0.7009763121604919),\n",
              " ('незаезженный', 0.6987210512161255),\n",
              " ('вычурный', 0.6955294013023376),\n",
              " ('внесезонный', 0.6877251863479614),\n",
              " ('зависимый', 0.6870157718658447),\n",
              " ('прекрасный', 0.6813668608665466),\n",
              " ('аурный', 0.6767970323562622),\n",
              " ('оговорка', 0.6735350489616394),\n",
              " ('парфюм', 0.6710439920425415)]"
            ]
          },
          "metadata": {},
          "execution_count": 45
        }
      ]
    },
    {
      "cell_type": "code",
      "source": [
        "w2v_model.wv.most_similar('запах')"
      ],
      "metadata": {
        "colab": {
          "base_uri": "https://localhost:8080/"
        },
        "id": "j9cY2PCRE6Im",
        "outputId": "68405246-6153-486b-9bb9-188ba638c767"
      },
      "execution_count": null,
      "outputs": [
        {
          "output_type": "execute_result",
          "data": {
            "text/plain": [
              "[('пахнуть', 0.7302704453468323),\n",
              " ('смешаться', 0.7267516851425171),\n",
              " ('ржавчина', 0.7039127945899963),\n",
              " ('дверца', 0.6904329061508179),\n",
              " ('капсула', 0.682820200920105),\n",
              " ('промокнуть', 0.6803349256515503),\n",
              " ('шина', 0.6729609966278076),\n",
              " ('собачий', 0.6718389391899109),\n",
              " ('хлорка', 0.6706149578094482),\n",
              " ('коняшка', 0.6665754914283752)]"
            ]
          },
          "metadata": {},
          "execution_count": 46
        }
      ]
    },
    {
      "cell_type": "code",
      "source": [
        "w2v_model.wv.most_similar('вкус')"
      ],
      "metadata": {
        "colab": {
          "base_uri": "https://localhost:8080/"
        },
        "id": "ITEuf3unE-aI",
        "outputId": "6bcb6028-8377-4c19-9b77-02649b1f679d"
      },
      "execution_count": null,
      "outputs": [
        {
          "output_type": "execute_result",
          "data": {
            "text/plain": [
              "[('девчачий', 0.6316481828689575),\n",
              " ('легкомыслие', 0.614676833152771),\n",
              " ('шампунька', 0.6127420663833618),\n",
              " ('озорной', 0.6082689166069031),\n",
              " ('девчушка', 0.6072286367416382),\n",
              " ('фужерчик', 0.6046552658081055),\n",
              " ('заезживать', 0.59971022605896),\n",
              " ('легкомысленность', 0.5995340347290039),\n",
              " ('одномерный', 0.5981864929199219),\n",
              " ('выдержанность', 0.5949944853782654)]"
            ]
          },
          "metadata": {},
          "execution_count": 47
        }
      ]
    },
    {
      "cell_type": "code",
      "source": [
        "w2v_model.wv.most_similar('цвет')"
      ],
      "metadata": {
        "colab": {
          "base_uri": "https://localhost:8080/"
        },
        "id": "e_TN5e9uFBLQ",
        "outputId": "15b4aaac-e9e2-4f7f-b70e-158e37cb826e"
      },
      "execution_count": null,
      "outputs": [
        {
          "output_type": "execute_result",
          "data": {
            "text/plain": [
              "[('апельсиновый', 0.7637445330619812),\n",
              " ('желтый', 0.7021497488021851),\n",
              " ('светло', 0.6853124499320984),\n",
              " ('жидкость', 0.6852812170982361),\n",
              " ('темно', 0.6798480749130249),\n",
              " ('просвет', 0.6737087368965149),\n",
              " ('коричневый', 0.6596378087997437),\n",
              " ('желтенький', 0.6547913551330566),\n",
              " ('голубой', 0.6465445160865784),\n",
              " ('синий', 0.6450091600418091)]"
            ]
          },
          "metadata": {},
          "execution_count": 48
        }
      ]
    },
    {
      "cell_type": "code",
      "source": [
        "w2v_model.wv.most_similar(positive=['запах'], negative=['приятный'])"
      ],
      "metadata": {
        "colab": {
          "base_uri": "https://localhost:8080/"
        },
        "id": "ZHn-DVFCX9rY",
        "outputId": "512fae5e-5ab5-4ce0-a844-e656a2213da5"
      },
      "execution_count": null,
      "outputs": [
        {
          "output_type": "execute_result",
          "data": {
            "text/plain": [
              "[('гараж', 0.5742600560188293),\n",
              " ('корова', 0.5565963387489319),\n",
              " ('завод', 0.5472984910011292),\n",
              " ('органический', 0.545559823513031),\n",
              " ('материя', 0.5423704981803894),\n",
              " ('инструмент', 0.5272057056427002),\n",
              " ('повесить', 0.5221394896507263),\n",
              " ('медсестра', 0.5177183747291565),\n",
              " ('британия', 0.5146943926811218),\n",
              " ('палата', 0.5136176943778992)]"
            ]
          },
          "metadata": {},
          "execution_count": 49
        }
      ]
    },
    {
      "cell_type": "code",
      "source": [
        "w2v_model.wv.most_similar(positive=['запах', 'приятный'],negative=['плохой'])"
      ],
      "metadata": {
        "colab": {
          "base_uri": "https://localhost:8080/"
        },
        "id": "LR2FpMNRTd0A",
        "outputId": "646c59cc-3854-4d59-e483-7e91bfed640b"
      },
      "execution_count": null,
      "outputs": [
        {
          "output_type": "execute_result",
          "data": {
            "text/plain": [
              "[('сладковатый', 0.6805636286735535),\n",
              " ('нотка', 0.6034839749336243),\n",
              " ('холодок', 0.5967432856559753),\n",
              " ('проглядывать', 0.5945703387260437),\n",
              " ('чаща', 0.5945085287094116),\n",
              " ('слегка', 0.5940762162208557),\n",
              " ('развеиваться', 0.5894500017166138),\n",
              " ('горьковатый', 0.5882589221000671),\n",
              " ('лиственный', 0.5876153111457825),\n",
              " ('отчетливый', 0.5874423384666443)]"
            ]
          },
          "metadata": {},
          "execution_count": 50
        }
      ]
    },
    {
      "cell_type": "code",
      "source": [
        "cosine_similarity = w2v_model.wv.similarity('аромат', 'запах')"
      ],
      "metadata": {
        "id": "KCIHGOsiKIkc"
      },
      "execution_count": null,
      "outputs": []
    },
    {
      "cell_type": "code",
      "source": [
        "w2v_model.wv.similarity('аромат', 'запах')"
      ],
      "metadata": {
        "id": "h24uhgvVXy9v"
      },
      "execution_count": null,
      "outputs": []
    },
    {
      "cell_type": "code",
      "source": [
        "cosine_similarity"
      ],
      "metadata": {
        "colab": {
          "base_uri": "https://localhost:8080/"
        },
        "id": "SD3XeGYWSsBb",
        "outputId": "91b00bb8-c7a9-4d90-a640-968c8cde6446"
      },
      "execution_count": null,
      "outputs": [
        {
          "output_type": "execute_result",
          "data": {
            "text/plain": [
              "0.39323"
            ]
          },
          "metadata": {},
          "execution_count": 67
        }
      ]
    },
    {
      "cell_type": "markdown",
      "source": [
        "### Визуализация эмбеддингов"
      ],
      "metadata": {
        "id": "OndHngpZnMez"
      }
    },
    {
      "cell_type": "code",
      "source": [
        "words_vocab = w2v_model.wv.index_to_key"
      ],
      "metadata": {
        "id": "RMY8CD3kbWyw"
      },
      "execution_count": null,
      "outputs": []
    },
    {
      "cell_type": "code",
      "source": [
        "from sklearn.manifold import TSNE\n",
        "import matplotlib.pyplot as plt\n",
        "import matplotlib.cm as cm\n",
        "import numpy as np"
      ],
      "metadata": {
        "id": "U-gcUpfjbFi3"
      },
      "execution_count": null,
      "outputs": []
    },
    {
      "cell_type": "markdown",
      "source": [
        "Визуализируем эмбеддинги наиболее интересных для нас слов, которые включают сенсорный компонент. Возьмём топ-15 наиболее похожих слов по фунции most_similar."
      ],
      "metadata": {
        "id": "I1L8z1NxqMAV"
      }
    },
    {
      "cell_type": "code",
      "source": [
        "keys = ['запах', 'аромат', 'вкус', 'звук', 'цвет']\n",
        "embedding_clusters = []\n",
        "word_clusters = []\n",
        "\n",
        "for word in keys:\n",
        "    embeddings = []\n",
        "    words = []\n",
        "    for similar_word, _ in w2v_model.wv.most_similar(word, topn=10):\n",
        "        words.append(similar_word)\n",
        "        embeddings.append(w2v_model.wv[similar_word])\n",
        "    embedding_clusters.append(embeddings)\n",
        "    word_clusters.append(words)"
      ],
      "metadata": {
        "id": "-EJPvnvNkL82"
      },
      "execution_count": null,
      "outputs": []
    },
    {
      "cell_type": "code",
      "source": [
        "# Визуализация эмбеддингов\n",
        "tsne = TSNE(perplexity = 5, n_components=2, random_state=42)\n",
        "embeddings_2d = tsne.fit_transform(np.concatenate(embedding_clusters, axis=0))\n",
        "\n",
        "# Разделение 2D эмбеддингов для каждого кластера\n",
        "zapah_embeddings = embeddings_2d[:len(embedding_clusters[0])]\n",
        "aromat_embeddings = embeddings_2d[len(embedding_clusters[0]):len(embedding_clusters[0]) + len(embedding_clusters[1])]\n",
        "vkus_embeddings = embeddings_2d[len(embedding_clusters[0]) + len(embedding_clusters[1]):len(embedding_clusters[0]) + len(embedding_clusters[1]) + len(embedding_clusters[2])]\n",
        "zvuk_embeddings = embeddings_2d[len(embedding_clusters[0]) + len(embedding_clusters[1]) + len(embedding_clusters[2]):len(embedding_clusters[0]) + len(embedding_clusters[1]) + len(embedding_clusters[2]) + len(embedding_clusters[3])]\n",
        "cvet_embeddings = embeddings_2d[len(embedding_clusters[0]) + len(embedding_clusters[1]) + len(embedding_clusters[2]) + len(embedding_clusters[3]):]\n",
        "\n",
        "# Построение графика\n",
        "plt.figure(figsize=(16, 8))\n",
        "plt.scatter(zapah_embeddings[:, 0], zapah_embeddings[:, 1], label='запах')\n",
        "plt.scatter(aromat_embeddings[:, 0], aromat_embeddings[:, 1], label='аромат')\n",
        "plt.scatter(vkus_embeddings[:, 0], vkus_embeddings[:, 1], label='вкус')\n",
        "plt.scatter(zvuk_embeddings[:, 0], zvuk_embeddings[:, 1], label='звук')\n",
        "plt.scatter(cvet_embeddings[:, 0], cvet_embeddings[:, 1], label='цвет')\n",
        "\n",
        "# Добавление меток слов\n",
        "for i, word in enumerate(word_clusters[0]):\n",
        "    plt.annotate(word, (zapah_embeddings[i, 0], zapah_embeddings[i, 1]), fontsize=10)\n",
        "for i, word in enumerate(word_clusters[1]):\n",
        "    plt.annotate(word, (aromat_embeddings[i, 0], aromat_embeddings[i, 1]), fontsize=10)\n",
        "for i, word in enumerate(word_clusters[2]):\n",
        "    plt.annotate(word, (vkus_embeddings[i, 0], vkus_embeddings[i, 1]), fontsize=10)\n",
        "for i, word in enumerate(word_clusters[3]):\n",
        "    plt.annotate(word, (zvuk_embeddings[i, 0], zvuk_embeddings[i, 1]), fontsize=10)\n",
        "for i, word in enumerate(word_clusters[4]):\n",
        "    plt.annotate(word, (cvet_embeddings[i, 0], cvet_embeddings[i, 1]), fontsize=10)\n",
        "\n",
        "plt.legend(loc='lower right', fontsize=10)\n",
        "plt.grid(True)\n",
        "plt.title('Визуализация эмбеддингов', fontsize=16)\n",
        "plt.show()\n",
        "\n",
        "\n"
      ],
      "metadata": {
        "colab": {
          "base_uri": "https://localhost:8080/",
          "height": 700
        },
        "id": "vtC_z2aSpzCI",
        "outputId": "0f7e440e-b99f-4f50-817b-8fe70e0404da"
      },
      "execution_count": null,
      "outputs": [
        {
          "output_type": "display_data",
          "data": {
            "text/plain": [
              "<Figure size 1600x800 with 1 Axes>"
            ],
            "image/png": "[encoded data removed]"
          },
          "metadata": {}
        }
      ]
    },
    {
      "cell_type": "markdown",
      "source": [
        "### Сравнение с эмбеддингами НКРЯ word2vec-ruscorpora-300"
      ],
      "metadata": {
        "id": "1K48aTfhV86H"
      }
    },
    {
      "cell_type": "code",
      "source": [
        "import multiprocessing\n",
        "import gensim\n",
        "from gensim.models import Word2Vec"
      ],
      "metadata": {
        "id": "n-5bfLRJUxgY"
      },
      "execution_count": null,
      "outputs": []
    },
    {
      "cell_type": "code",
      "source": [
        "import gensim.downloader"
      ],
      "metadata": {
        "id": "zVue1ZtdFxNM"
      },
      "execution_count": null,
      "outputs": []
    },
    {
      "cell_type": "code",
      "source": [
        "import re"
      ],
      "metadata": {
        "id": "zq8Ac_yw7A5S"
      },
      "execution_count": null,
      "outputs": []
    },
    {
      "cell_type": "code",
      "source": [
        "print(list(gensim.downloader.info()['models'].keys()))"
      ],
      "metadata": {
        "colab": {
          "base_uri": "https://localhost:8080/"
        },
        "id": "T5S8yXywFy6i",
        "outputId": "7b6a24bd-8cfb-4c42-ff57-efd7ae57577d"
      },
      "execution_count": null,
      "outputs": [
        {
          "output_type": "stream",
          "name": "stdout",
          "text": [
            "['fasttext-wiki-news-subwords-300', 'conceptnet-numberbatch-17-06-300', 'word2vec-ruscorpora-300', 'word2vec-google-news-300', 'glove-wiki-gigaword-50', 'glove-wiki-gigaword-100', 'glove-wiki-gigaword-200', 'glove-wiki-gigaword-300', 'glove-twitter-25', 'glove-twitter-50', 'glove-twitter-100', 'glove-twitter-200', '__testing_word2vec-matrix-synopsis']\n"
          ]
        }
      ]
    },
    {
      "cell_type": "markdown",
      "source": [
        "Выберем эмбеддинги русскоязычных текстов из НКРЯ:"
      ],
      "metadata": {
        "id": "juqCVYZtyyPK"
      }
    },
    {
      "cell_type": "code",
      "source": [
        "rus_vectors = gensim.downloader.load('word2vec-ruscorpora-300')"
      ],
      "metadata": {
        "colab": {
          "base_uri": "https://localhost:8080/"
        },
        "id": "zoQjrDUIF6u6",
        "outputId": "2041819a-5029-45bf-d81c-2d716d01aace"
      },
      "execution_count": null,
      "outputs": [
        {
          "output_type": "stream",
          "name": "stdout",
          "text": [
            "[==================================================] 100.0% 198.8/198.8MB downloaded\n"
          ]
        }
      ]
    },
    {
      "cell_type": "code",
      "source": [
        "rus_vectors.most_similar('аромат_NOUN')"
      ],
      "metadata": {
        "colab": {
          "base_uri": "https://localhost:8080/"
        },
        "id": "pUpNvDVgCaXW",
        "outputId": "2b2175bb-6c9d-4f95-e8e1-9ed1e806c3e4"
      },
      "execution_count": null,
      "outputs": [
        {
          "output_type": "execute_result",
          "data": {
            "text/plain": [
              "[('запах_NOUN', 0.8048601150512695),\n",
              " ('пряный_ADJ', 0.7300706505775452),\n",
              " ('благоухание_NOUN', 0.7292736172676086),\n",
              " ('сладковатый_ADJ', 0.6917674541473389),\n",
              " ('ароматный_ADJ', 0.6893728971481323),\n",
              " ('душистость_NOUN', 0.6783921718597412),\n",
              " ('горьковатый_ADJ', 0.6775102615356445),\n",
              " ('терпкий_ADJ', 0.6697924733161926),\n",
              " ('душистый_ADJ', 0.6683729290962219),\n",
              " ('пахучий_ADJ', 0.6531553268432617)]"
            ]
          },
          "metadata": {},
          "execution_count": 8
        }
      ]
    },
    {
      "cell_type": "code",
      "source": [
        "rus_vectors.most_similar('запах_NOUN')"
      ],
      "metadata": {
        "colab": {
          "base_uri": "https://localhost:8080/"
        },
        "id": "aaiOeTf8WiTA",
        "outputId": "1966badc-457d-4b20-b760-e834734741d2"
      },
      "execution_count": null,
      "outputs": [
        {
          "output_type": "execute_result",
          "data": {
            "text/plain": [
              "[('аромат_NOUN', 0.8048602342605591),\n",
              " ('пахнуть_VERB', 0.771014928817749),\n",
              " ('сладковатый_ADJ', 0.7667341232299805),\n",
              " ('дурманящий_ADJ', 0.7182641625404358),\n",
              " ('вонь_NOUN', 0.6889322996139526),\n",
              " ('горьковатый_ADJ', 0.6844416260719299),\n",
              " ('терпкий_ADJ', 0.6810876727104187),\n",
              " ('пахучий_ADJ', 0.6791348457336426),\n",
              " ('пряный_ADJ', 0.6630613803863525),\n",
              " ('пригорелый_ADJ', 0.6408772468566895)]"
            ]
          },
          "metadata": {},
          "execution_count": 13
        }
      ]
    },
    {
      "cell_type": "code",
      "source": [
        "rus_vectors.most_similar('вкус_NOUN')"
      ],
      "metadata": {
        "colab": {
          "base_uri": "https://localhost:8080/"
        },
        "id": "VuUrEq1oWZSk",
        "outputId": "f101aa3f-abda-4599-d306-794a3a21b0b9"
      },
      "execution_count": null,
      "outputs": [
        {
          "output_type": "execute_result",
          "data": {
            "text/plain": [
              "[('вкусовой_ADJ', 0.562601625919342),\n",
              " ('приперчивать_VERB', 0.5365050435066223),\n",
              " ('хреновуха_NOUN', 0.5346567034721375),\n",
              " ('арбузный::мякоть_NOUN', 0.5249590277671814),\n",
              " ('бальзамический::уксус_NOUN', 0.5205861330032349),\n",
              " ('анисов_NOUN', 0.5124532580375671),\n",
              " ('террин_NOUN', 0.5091456770896912),\n",
              " ('кислинка_NOUN', 0.5056184530258179),\n",
              " ('свежесваривать_VERB', 0.5026630163192749),\n",
              " ('гурманство_NOUN', 0.5017238259315491)]"
            ]
          },
          "metadata": {},
          "execution_count": 11
        }
      ]
    },
    {
      "cell_type": "code",
      "source": [
        "rus_vectors.most_similar('цвет_NOUN')"
      ],
      "metadata": {
        "colab": {
          "base_uri": "https://localhost:8080/"
        },
        "id": "v-5Ugx5bWeET",
        "outputId": "94810c27-ee06-46d0-c77d-4860c06d460d"
      },
      "execution_count": null,
      "outputs": [
        {
          "output_type": "execute_result",
          "data": {
            "text/plain": [
              "[('окрашивать_VERB', 0.673255205154419),\n",
              " ('светло-кремовый_ADJ', 0.6720880270004272),\n",
              " ('желтый_ADJ', 0.6685566306114197),\n",
              " ('окраска_NOUN', 0.6682949066162109),\n",
              " ('фиолетовый_ADJ', 0.6670775413513184),\n",
              " ('коричневый_ADJ', 0.6602660417556763),\n",
              " ('оттенок_NOUN', 0.648981511592865),\n",
              " ('оранжевый_ADJ', 0.6486042737960815),\n",
              " ('воронов::крыло_NOUN', 0.635356068611145),\n",
              " ('синий_ADJ', 0.6322086453437805)]"
            ]
          },
          "metadata": {},
          "execution_count": 12
        }
      ]
    },
    {
      "cell_type": "code",
      "source": [
        "rus_vectors.similarity('аромат_NOUN', 'запах_NOUN')"
      ],
      "metadata": {
        "colab": {
          "base_uri": "https://localhost:8080/"
        },
        "id": "1K9rppdYU6Xy",
        "outputId": "b52ed26e-2279-4ede-a560-c3da751f3c48"
      },
      "execution_count": null,
      "outputs": [
        {
          "output_type": "execute_result",
          "data": {
            "text/plain": [
              "0.8048603"
            ]
          },
          "metadata": {},
          "execution_count": 10
        }
      ]
    },
    {
      "cell_type": "markdown",
      "source": [
        "Вывод: в некоторых случаях обученная на специальном корпусе модель показывает неплохие результаты, но в целом очевидно, что объёма корпуса не хватает для корректного обучения, требуется больший объём."
      ],
      "metadata": {
        "id": "VZ2yYu39vaVW"
      }
    }
  ]
}